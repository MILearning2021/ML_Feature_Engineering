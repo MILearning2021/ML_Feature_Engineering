{
 "cells": [
  {
   "cell_type": "code",
   "execution_count": 238,
   "id": "6f1e6dd8",
   "metadata": {},
   "outputs": [],
   "source": [
    "import pandas as pd\n",
    "import numpy as np\n",
    "import matplotlib.pyplot as plt\n",
    "import math\n",
    "\n",
    "from sklearn.preprocessing import StandardScaler, LabelEncoder"
   ]
  },
  {
   "cell_type": "code",
   "execution_count": 239,
   "id": "cc628b8e",
   "metadata": {},
   "outputs": [],
   "source": [
    "iris = pd.read_csv('data/iris_csv.csv', sep = ',')"
   ]
  },
  {
   "cell_type": "code",
   "execution_count": 240,
   "id": "fdfcba4b",
   "metadata": {},
   "outputs": [
    {
     "name": "stdout",
     "output_type": "stream",
     "text": [
      "<class 'pandas.core.frame.DataFrame'>\n",
      "RangeIndex: 150 entries, 0 to 149\n",
      "Data columns (total 5 columns):\n",
      " #   Column       Non-Null Count  Dtype  \n",
      "---  ------       --------------  -----  \n",
      " 0   sepallength  150 non-null    float64\n",
      " 1   sepalwidth   150 non-null    float64\n",
      " 2   petallength  150 non-null    float64\n",
      " 3   petalwidth   150 non-null    float64\n",
      " 4   class        150 non-null    object \n",
      "dtypes: float64(4), object(1)\n",
      "memory usage: 6.0+ KB\n"
     ]
    }
   ],
   "source": [
    "iris.info()"
   ]
  },
  {
   "cell_type": "code",
   "execution_count": 241,
   "id": "e1f247c6",
   "metadata": {},
   "outputs": [],
   "source": [
    "#iris.head()"
   ]
  },
  {
   "cell_type": "code",
   "execution_count": 242,
   "id": "aab4e83a",
   "metadata": {},
   "outputs": [
    {
     "data": {
      "text/plain": [
       "array(['Iris-setosa', 'Iris-versicolor', 'Iris-virginica'], dtype=object)"
      ]
     },
     "execution_count": 242,
     "metadata": {},
     "output_type": "execute_result"
    }
   ],
   "source": [
    "iris['class'].unique()"
   ]
  },
  {
   "cell_type": "code",
   "execution_count": 290,
   "id": "cfd6e044",
   "metadata": {},
   "outputs": [],
   "source": [
    "Y = LabelEncoder().fit_transform(iris[iris['class'] != 'Iris-setosa']['class'])\n",
    "X = StandardScaler().fit_transform(iris[iris['class'] != 'Iris-setosa'].drop(['class'], axis = 1))"
   ]
  },
  {
   "cell_type": "code",
   "execution_count": null,
   "id": "4eaa508a",
   "metadata": {},
   "outputs": [],
   "source": [
    "\"\"\"\n",
    "https://habr.com/ru/post/485872/\n",
    "\n",
    "1. уравнение для нашего случая F(x1,x2,x3,x4)=w0 + w1x1 + w2x2 + w3x3 + w4x4\n",
    "2. def logit (f): return 1/(1+math.exp(-F)) - логистическая ф-ия, определяет вероятность 0 или 1\n",
    "3. Ошибка (штраф) предсказания - метод наименьших квадратов для определения w\n",
    "    MSE = (1 - proba_y)**2, где proba_y - вероятность принадлежности наблюдения, определенная моделью, \n",
    "                            к конкретному классу\n",
    "4. Ошибка (штраф) предсказания - метод максимального правдоподобия (Log Loss) - произведение вероятностей \n",
    "принадлежности наблюдения к тому или иному классу - для определения w\n",
    "    loss_array = - (y * np.log(y_pred)) - ((1. - y) * np.log(1. - y_pred))\n",
    "5. \"Log Loss\" лучше.\n",
    "\n",
    "Алгоритм:\n",
    "1. считаем для каждого наблюдения F (откуда брать w? - берем случайные числа для старта)\n",
    "2. применяя сигмоиду, получаем для каждого наблюдения вероятность\n",
    "3. считаем и фиксируем логарифм ф-и правдоподобия (есть формула Log Loss)\n",
    "4. методом градиентного или стохастического спуска (или др. методами) подбираем оптимальные w\n",
    "\"\"\""
   ]
  },
  {
   "cell_type": "code",
   "execution_count": 314,
   "id": "983d0c0e",
   "metadata": {},
   "outputs": [],
   "source": [
    "#сигмоида в качестве активационной функции для логистической регрессии - получаем вероятность принадлежности\n",
    "#наблюдения к категории 0 или 1 (<0.5 - \"0\", >0.5 - \"1\")\n",
    "def sigmoida(f): \n",
    "    return 1. / (1. + math.exp(-f))\n",
    "    #return 1. / (1. + np.exp(-f))\n",
    "\n",
    "#вычисляем функцию потерь (на вход истинные отметки классов и предсказания отметок классов по всем наблюдениям)\n",
    "#на выходе - массив ошибок и средняя ошибка\n",
    "def logloss(y, y_pred):\n",
    "    loss_array = - (y * np.log(y_pred)) - ((1. - y) * np.log(1. - np.array(y_pred)))  \n",
    "    return loss_array, np.sum(loss_array) / len(loss_array)\n",
    "\n",
    "#линейное уравнение для 4-х факторов х (у нас 4 входных параметра)\n",
    "def linfunc(w, x):\n",
    "    f = w[0] + x.dot(w[1:])\n",
    "    return f\n",
    "\n",
    "#градиентный спуск\n",
    "#на вход: скорость обучения, стартовые коэффициенты, количество эпох (повторений обучения), \n",
    "#X и Y (из набора данных)\n",
    "def graddescent(lr, w, n_epochs, x, y):\n",
    "    loss_mean_array = []\n",
    "    #по количеству повторений обучения\n",
    "    for epoch in range(n_epochs):\n",
    "        #получаем предсказания 0/1\n",
    "        #predictions = [1e-8 if sigmoida(f) < 0.5 else 0.99999999 for f in linfunc(w, x)]\n",
    "        predictions = [sigmoida(f) for f in linfunc(w, x)]\n",
    "        #считаем и фиксируем среднюю ошибку\n",
    "        loss_array, loss_mean =  logloss(y, predictions)\n",
    "        loss_mean_array.append(loss_mean)\n",
    "        #корректируем коэффициенты\n",
    "        w[0] -= lr * np.sum(predictions - y) / len(predictions)\n",
    "        w[1] -= lr * np.sum((predictions - y) * x.T[0]) / len(predictions)\n",
    "        w[2] -= lr * np.sum((predictions - y) * x.T[1]) / len(predictions)\n",
    "        w[3] -= lr * np.sum((predictions - y) * x.T[2]) / len(predictions)\n",
    "        w[4] -= lr * np.sum((predictions - y) * x.T[3]) / len(predictions)\n",
    "    return w, loss_mean_array"
   ]
  },
  {
   "cell_type": "code",
   "execution_count": 337,
   "id": "aa0ea023",
   "metadata": {},
   "outputs": [],
   "source": [
    "#строим и обучаем модель (3 варианта обучения)\n",
    "#массив весов для нашего уровнения с 4-мя факторами х; начальные значения \"из головы\"\n",
    "w = [0, 0, -1, 0.6, 0]\n",
    "#скорость обучения\n",
    "lr = 0.01\n",
    "#количество повторения обучения\n",
    "n_epochs = 2000"
   ]
  },
  {
   "cell_type": "code",
   "execution_count": 338,
   "id": "db5433bd",
   "metadata": {},
   "outputs": [
    {
     "data": {
      "image/png": "[encoded data removed]",
      "text/plain": [
       "<Figure size 432x288 with 1 Axes>"
      ]
     },
     "metadata": {
      "needs_background": "light"
     },
     "output_type": "display_data"
    },
    {
     "name": "stdout",
     "output_type": "stream",
     "text": [
      "[0.06657955060876565, 0.1348164178789657, -0.5516853484686381, 1.9632477754933817, 1.8235737157148333]\n"
     ]
    }
   ],
   "source": [
    "#вариант №1 - градиентный спуск\n",
    "w_opt, loss_mean_array = graddescent(lr, w, n_epochs, X, Y)\n",
    "\n",
    "plt.plot(range(0, n_epochs), loss_mean_array, 'r-')\n",
    "plt.title('Ошибка')\n",
    "plt.show()\n",
    "\n",
    "print(w_opt)"
   ]
  },
  {
   "cell_type": "code",
   "execution_count": null,
   "id": "fe793643",
   "metadata": {},
   "outputs": [],
   "source": []
  },
  {
   "cell_type": "code",
   "execution_count": null,
   "id": "0b8c81bb",
   "metadata": {},
   "outputs": [],
   "source": []
  },
  {
   "cell_type": "code",
   "execution_count": null,
   "id": "61b1f160",
   "metadata": {},
   "outputs": [],
   "source": []
  },
  {
   "cell_type": "code",
   "execution_count": null,
   "id": "033db41f",
   "metadata": {},
   "outputs": [],
   "source": []
  }
 ],
 "metadata": {
  "kernelspec": {
   "display_name": "Python 3",
   "language": "python",
   "name": "python3"
  },
  "language_info": {
   "codemirror_mode": {
    "name": "ipython",
    "version": 3
   },
   "file_extension": ".py",
   "mimetype": "text/x-python",
   "name": "python",
   "nbconvert_exporter": "python",
   "pygments_lexer": "ipython3",
   "version": "3.8.10"
  }
 },
 "nbformat": 4,
 "nbformat_minor": 5
}
