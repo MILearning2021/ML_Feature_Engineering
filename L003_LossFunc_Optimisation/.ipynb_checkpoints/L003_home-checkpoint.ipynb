{
 "cells": [
  {
   "cell_type": "code",
   "execution_count": 33,
   "id": "6f1e6dd8",
   "metadata": {},
   "outputs": [],
   "source": [
    "import pandas as pd\n",
    "import numpy as np\n",
    "import matplotlib.pyplot as plt\n",
    "import math\n",
    "\n",
    "from sklearn.preprocessing import StandardScaler, LabelEncoder"
   ]
  },
  {
   "cell_type": "code",
   "execution_count": 34,
   "id": "cc628b8e",
   "metadata": {},
   "outputs": [],
   "source": [
    "iris = pd.read_csv('data/iris_csv.csv', sep = ',')"
   ]
  },
  {
   "cell_type": "code",
   "execution_count": 35,
   "id": "fdfcba4b",
   "metadata": {},
   "outputs": [
    {
     "name": "stdout",
     "output_type": "stream",
     "text": [
      "<class 'pandas.core.frame.DataFrame'>\n",
      "RangeIndex: 150 entries, 0 to 149\n",
      "Data columns (total 5 columns):\n",
      " #   Column       Non-Null Count  Dtype  \n",
      "---  ------       --------------  -----  \n",
      " 0   sepallength  150 non-null    float64\n",
      " 1   sepalwidth   150 non-null    float64\n",
      " 2   petallength  150 non-null    float64\n",
      " 3   petalwidth   150 non-null    float64\n",
      " 4   class        150 non-null    object \n",
      "dtypes: float64(4), object(1)\n",
      "memory usage: 6.0+ KB\n"
     ]
    }
   ],
   "source": [
    "iris.info()"
   ]
  },
  {
   "cell_type": "code",
   "execution_count": 36,
   "id": "e1f247c6",
   "metadata": {},
   "outputs": [],
   "source": [
    "#iris.head()"
   ]
  },
  {
   "cell_type": "code",
   "execution_count": 37,
   "id": "aab4e83a",
   "metadata": {},
   "outputs": [
    {
     "data": {
      "text/plain": [
       "array(['Iris-setosa', 'Iris-versicolor', 'Iris-virginica'], dtype=object)"
      ]
     },
     "execution_count": 37,
     "metadata": {},
     "output_type": "execute_result"
    }
   ],
   "source": [
    "iris['class'].unique()"
   ]
  },
  {
   "cell_type": "code",
   "execution_count": 38,
   "id": "cfd6e044",
   "metadata": {},
   "outputs": [],
   "source": [
    "Y = LabelEncoder().fit_transform(iris[iris['class'] != 'Iris-setosa']['class'])\n",
    "X = StandardScaler().fit_transform(iris[iris['class'] != 'Iris-setosa'].drop(['class'], axis = 1))"
   ]
  },
  {
   "cell_type": "markdown",
   "id": "ae8a81eb",
   "metadata": {},
   "source": [
    "\"\"\"\n",
    "https://habr.com/ru/post/485872/\n",
    "\n",
    "1. уравнение для нашего случая F(x1,x2,x3,x4)=w0 + w1x1 + w2x2 + w3x3 + w4x4\n",
    "2. def logit (f): return 1/(1+math.exp(-F)) - логистическая ф-ия, определяет вероятность 0 или 1\n",
    "3. Ошибка (штраф) предсказания - метод наименьших квадратов для определения w\n",
    "    MSE = (1 - proba_y)**2, где proba_y - вероятность принадлежности наблюдения, определенная моделью, \n",
    "                            к конкретному классу\n",
    "4. Ошибка (штраф) предсказания - метод максимального правдоподобия (Log Loss) - произведение вероятностей \n",
    "принадлежности наблюдения к тому или иному классу - для определения w\n",
    "    loss_array = - (y * np.log(y_pred)) - ((1. - y) * np.log(1. - y_pred))\n",
    "5. \"Log Loss\" лучше.\n",
    "\n",
    "Алгоритм:\n",
    "1. считаем для каждого наблюдения F (откуда брать w? - берем случайные числа для старта)\n",
    "2. применяя сигмоиду, получаем для каждого наблюдения вероятность\n",
    "3. считаем и фиксируем логарифм ф-и правдоподобия (есть формула Log Loss)\n",
    "4. методом градиентного или стохастического спуска (или др. методами) подбираем оптимальные w\n",
    "\"\"\""
   ]
  },
  {
   "cell_type": "code",
   "execution_count": 39,
   "id": "9ae20e32",
   "metadata": {},
   "outputs": [],
   "source": [
    "#сигмоида в качестве активационной функции для логистической регрессии - получаем вероятность принадлежности\n",
    "#наблюдения к категории 0 или 1 (<0.5 - \"0\", >0.5 - \"1\")\n",
    "def sigmoida(f):\n",
    "    return 1. / (1. + math.exp(-f))\n",
    "    #return 1. / (1. + np.exp(-f))\n",
    "\n",
    "#вычисляем функцию потерь (на вход истинные отметки классов и предсказания отметок классов по всем наблюдениям)\n",
    "#на выходе - массив ошибок и средняя ошибка\n",
    "def logloss(y, y_pred):\n",
    "    loss_array = - (y * np.log(y_pred)) - ((1. - y) * np.log(1. - np.array(y_pred)))  \n",
    "    return loss_array, np.sum(loss_array) / len(loss_array)\n",
    "\n",
    "#линейное уравнение для 4-х факторов х (у нас 4 входных параметра)\n",
    "def linfunc(w, x):\n",
    "    f = w[0] + x.dot(w[1:])\n",
    "    return f\n",
    "\n",
    "#градиентный спуск\n",
    "#на вход: скорость обучения, стартовые коэффициенты, количество эпох (повторений обучения), \n",
    "#X и Y (из набора данных)\n",
    "def graddescent(lr, w, n_epochs, x, y):\n",
    "    loss_mean_array = []\n",
    "    #по количеству повторений обучения\n",
    "    for epoch in range(n_epochs):\n",
    "        #получаем предсказания вероятности 0/1\n",
    "        predictions = [sigmoida(f) for f in linfunc(w, x)]\n",
    "        #считаем и фиксируем среднюю ошибку\n",
    "        loss_array, loss_mean =  logloss(y, predictions)\n",
    "        loss_mean_array.append(loss_mean)\n",
    "        #корректируем коэффициенты\n",
    "        w[0] -= lr * np.sum(predictions - y) / len(predictions)\n",
    "        for i in range(1, len(w)):\n",
    "            w[i] -= lr * np.sum(predictions - y) * x.T[i - 1] / len(predictions)\n",
    "    #возвращаю коэфф. модели и массив ошибок     \n",
    "    return w, loss_mean_array\n",
    "\n",
    "\n",
    "#стохастический градиентный спуск\n",
    "def stochastic_graddescent(lr, w, n_epochs, x, y):\n",
    "    loss_mean_array = []\n",
    "    #по количеству повторений обучения\n",
    "    for epoch in range(n_epochs):\n",
    "        #получаем предсказания вероятности 0/1 для случайно выбранного наблюдения \n",
    "        #(берется только одно наблюдение в предположении, что остальные ведут себя примерно одинаково)\n",
    "        i = np.random.choice(len(x))\n",
    "        prediction = sigmoida(linfunc(w, x[i]))\n",
    "        #считаем и фиксируем среднюю ошибку\n",
    "        loss_array, loss_mean =  logloss(y, prediction)\n",
    "        loss_mean_array.append(loss_mean)\n",
    "        #корректируем коэффициенты\n",
    "        w[0] -= lr * np.sum(prediction - y)\n",
    "        for j in range(1, len(w)):\n",
    "            w[j] -= lr * np.sum((prediction - y) * x[i][j - 1])\n",
    "    #возвращаю коэфф. модели и массив ошибок\n",
    "    return w, loss_mean_array\n",
    "\n",
    "#Nesterov Accelerated Gradient\n",
    "#в формулу корректировки коэффииентов добавляется слагаемое - предыдущее значение коэфф. умноженное на коэфф.\n",
    "#сохранения (0<nm<1, обычно 0.9), это доп. слагаемое должно отражать предыдущую логику изменения \n",
    "#соответсвущего коэфф. модели\n",
    "def nesterov_momentum(nm, lr, w, n_epochs, x, y):\n",
    "    loss_mean_array = []\n",
    "    vt = [0., 0., 0., 0., 0.]\n",
    "    #по количеству повторений обучения\n",
    "    for epoch in range(n_epochs):\n",
    "        #получаем предсказания вероятности 0/1\n",
    "        predictions = [sigmoida(f) for f in linfunc(w, x)]\n",
    "        #считаем и фиксируем среднюю ошибку\n",
    "        loss_array, loss_mean =  logloss(y, predictions)\n",
    "        loss_mean_array.append(loss_mean)\n",
    "        #корректируем коэффициенты, vt доп.слагаемое\n",
    "        vt[0] = nm * vt[0] + lr * np.sum(predictions - y) / len(predictions)\n",
    "        w[0] -= vt[0]\n",
    "        for i in range(1, len(w)):\n",
    "            vt[i] = nm * vt[i] + lr * np.sum((predictions - y) * x.T[i - 1]) / len(predictions)\n",
    "            w[i] -= vt[i]\n",
    "    #возвращаю коэфф. модели и массив ошибок\n",
    "    return w, loss_mean_array\n",
    "\n",
    "#RMSProp (вариант Adagrad)\n",
    "#корректируем множитель перед градиентом (один из вариантов корректировки), используется усредненный по истории\n",
    "#квадрат градиента и сглаживающий параметр, необходимый для защиты от деления на 0 (10-8<e<10-6);\n",
    "#их суммируют, берут под корень и помещают в знаменатель множителя перед градиентм\n",
    "def rmsprop(e, nm, lr, w, n_epochs, x, y):\n",
    "    loss_mean_array = []\n",
    "    Eg2 = [0., 0., 0., 0., 0.]\n",
    "    #по количеству повторений обучения\n",
    "    for epoch in range(n_epochs):\n",
    "        #получаем предсказания вероятности 0/1\n",
    "        predictions = [sigmoida(f) for f in linfunc(w, x)]\n",
    "        #считаем и фиксируем среднюю ошибку\n",
    "        loss_array, loss_mean =  logloss(y, predictions)\n",
    "        loss_mean_array.append(loss_mean)\n",
    "        #корректируем коэффициенты, vt доп.слагаемое\n",
    "        Eg2[0] = nm * Eg2[0] + (1 - nm) * (np.sum(predictions - y) / len(predictions))**2\n",
    "        w[0] -= (lr * np.sum(predictions - y) / len(predictions)) / np.sqrt(Eg2[0] + e)\n",
    "        for i in range(1, len(w)):\n",
    "            Eg2[i] = nm * Eg2[i] + (1 - nm) * (np.sum((predictions - y) * x.T[i - 1]) / len(predictions))**2\n",
    "            w[i] -= (lr * (np.sum((predictions - y) * x.T[i - 1]) / len(predictions))) / np.sqrt(Eg2[i] + e)\n",
    "    #возвращаю коэфф. модели и массив ошибок\n",
    "    return w, loss_mean_array"
   ]
  },
  {
   "cell_type": "code",
   "execution_count": 40,
   "id": "17cc21aa",
   "metadata": {},
   "outputs": [],
   "source": [
    "#------------------------------------------------------------------------------------------------------------------"
   ]
  },
  {
   "cell_type": "code",
   "execution_count": 41,
   "id": "8e26ff43",
   "metadata": {},
   "outputs": [
    {
     "ename": "TypeError",
     "evalue": "only size-1 arrays can be converted to Python scalars",
     "output_type": "error",
     "traceback": [
      "\u001b[0;31m---------------------------------------------------------------------------\u001b[0m",
      "\u001b[0;31mTypeError\u001b[0m                                 Traceback (most recent call last)",
      "\u001b[0;32m<timed exec>\u001b[0m in \u001b[0;36m<module>\u001b[0;34m\u001b[0m\n",
      "\u001b[0;32m<ipython-input-39-57a332ed2e80>\u001b[0m in \u001b[0;36mgraddescent\u001b[0;34m(lr, w, n_epochs, x, y)\u001b[0m\n\u001b[1;32m     24\u001b[0m     \u001b[0;32mfor\u001b[0m \u001b[0mepoch\u001b[0m \u001b[0;32min\u001b[0m \u001b[0mrange\u001b[0m\u001b[0;34m(\u001b[0m\u001b[0mn_epochs\u001b[0m\u001b[0;34m)\u001b[0m\u001b[0;34m:\u001b[0m\u001b[0;34m\u001b[0m\u001b[0;34m\u001b[0m\u001b[0m\n\u001b[1;32m     25\u001b[0m         \u001b[0;31m#получаем предсказания вероятности 0/1\u001b[0m\u001b[0;34m\u001b[0m\u001b[0;34m\u001b[0m\u001b[0;34m\u001b[0m\u001b[0m\n\u001b[0;32m---> 26\u001b[0;31m         \u001b[0mpredictions\u001b[0m \u001b[0;34m=\u001b[0m \u001b[0;34m[\u001b[0m\u001b[0msigmoida\u001b[0m\u001b[0;34m(\u001b[0m\u001b[0mf\u001b[0m\u001b[0;34m)\u001b[0m \u001b[0;32mfor\u001b[0m \u001b[0mf\u001b[0m \u001b[0;32min\u001b[0m \u001b[0mlinfunc\u001b[0m\u001b[0;34m(\u001b[0m\u001b[0mw\u001b[0m\u001b[0;34m,\u001b[0m \u001b[0mx\u001b[0m\u001b[0;34m)\u001b[0m\u001b[0;34m]\u001b[0m\u001b[0;34m\u001b[0m\u001b[0;34m\u001b[0m\u001b[0m\n\u001b[0m\u001b[1;32m     27\u001b[0m         \u001b[0;31m#считаем и фиксируем среднюю ошибку\u001b[0m\u001b[0;34m\u001b[0m\u001b[0;34m\u001b[0m\u001b[0;34m\u001b[0m\u001b[0m\n\u001b[1;32m     28\u001b[0m         \u001b[0mloss_array\u001b[0m\u001b[0;34m,\u001b[0m \u001b[0mloss_mean\u001b[0m \u001b[0;34m=\u001b[0m  \u001b[0mlogloss\u001b[0m\u001b[0;34m(\u001b[0m\u001b[0my\u001b[0m\u001b[0;34m,\u001b[0m \u001b[0mpredictions\u001b[0m\u001b[0;34m)\u001b[0m\u001b[0;34m\u001b[0m\u001b[0;34m\u001b[0m\u001b[0m\n",
      "\u001b[0;32m<ipython-input-39-57a332ed2e80>\u001b[0m in \u001b[0;36m<listcomp>\u001b[0;34m(.0)\u001b[0m\n\u001b[1;32m     24\u001b[0m     \u001b[0;32mfor\u001b[0m \u001b[0mepoch\u001b[0m \u001b[0;32min\u001b[0m \u001b[0mrange\u001b[0m\u001b[0;34m(\u001b[0m\u001b[0mn_epochs\u001b[0m\u001b[0;34m)\u001b[0m\u001b[0;34m:\u001b[0m\u001b[0;34m\u001b[0m\u001b[0;34m\u001b[0m\u001b[0m\n\u001b[1;32m     25\u001b[0m         \u001b[0;31m#получаем предсказания вероятности 0/1\u001b[0m\u001b[0;34m\u001b[0m\u001b[0;34m\u001b[0m\u001b[0;34m\u001b[0m\u001b[0m\n\u001b[0;32m---> 26\u001b[0;31m         \u001b[0mpredictions\u001b[0m \u001b[0;34m=\u001b[0m \u001b[0;34m[\u001b[0m\u001b[0msigmoida\u001b[0m\u001b[0;34m(\u001b[0m\u001b[0mf\u001b[0m\u001b[0;34m)\u001b[0m \u001b[0;32mfor\u001b[0m \u001b[0mf\u001b[0m \u001b[0;32min\u001b[0m \u001b[0mlinfunc\u001b[0m\u001b[0;34m(\u001b[0m\u001b[0mw\u001b[0m\u001b[0;34m,\u001b[0m \u001b[0mx\u001b[0m\u001b[0;34m)\u001b[0m\u001b[0;34m]\u001b[0m\u001b[0;34m\u001b[0m\u001b[0;34m\u001b[0m\u001b[0m\n\u001b[0m\u001b[1;32m     27\u001b[0m         \u001b[0;31m#считаем и фиксируем среднюю ошибку\u001b[0m\u001b[0;34m\u001b[0m\u001b[0;34m\u001b[0m\u001b[0;34m\u001b[0m\u001b[0m\n\u001b[1;32m     28\u001b[0m         \u001b[0mloss_array\u001b[0m\u001b[0;34m,\u001b[0m \u001b[0mloss_mean\u001b[0m \u001b[0;34m=\u001b[0m  \u001b[0mlogloss\u001b[0m\u001b[0;34m(\u001b[0m\u001b[0my\u001b[0m\u001b[0;34m,\u001b[0m \u001b[0mpredictions\u001b[0m\u001b[0;34m)\u001b[0m\u001b[0;34m\u001b[0m\u001b[0;34m\u001b[0m\u001b[0m\n",
      "\u001b[0;32m<ipython-input-39-57a332ed2e80>\u001b[0m in \u001b[0;36msigmoida\u001b[0;34m(f)\u001b[0m\n\u001b[1;32m      2\u001b[0m \u001b[0;31m#наблюдения к категории 0 или 1 (<0.5 - \"0\", >0.5 - \"1\")\u001b[0m\u001b[0;34m\u001b[0m\u001b[0;34m\u001b[0m\u001b[0;34m\u001b[0m\u001b[0m\n\u001b[1;32m      3\u001b[0m \u001b[0;32mdef\u001b[0m \u001b[0msigmoida\u001b[0m\u001b[0;34m(\u001b[0m\u001b[0mf\u001b[0m\u001b[0;34m)\u001b[0m\u001b[0;34m:\u001b[0m\u001b[0;34m\u001b[0m\u001b[0;34m\u001b[0m\u001b[0m\n\u001b[0;32m----> 4\u001b[0;31m     \u001b[0;32mreturn\u001b[0m \u001b[0;36m1.\u001b[0m \u001b[0;34m/\u001b[0m \u001b[0;34m(\u001b[0m\u001b[0;36m1.\u001b[0m \u001b[0;34m+\u001b[0m \u001b[0mmath\u001b[0m\u001b[0;34m.\u001b[0m\u001b[0mexp\u001b[0m\u001b[0;34m(\u001b[0m\u001b[0;34m-\u001b[0m\u001b[0mf\u001b[0m\u001b[0;34m)\u001b[0m\u001b[0;34m)\u001b[0m\u001b[0;34m\u001b[0m\u001b[0;34m\u001b[0m\u001b[0m\n\u001b[0m\u001b[1;32m      5\u001b[0m     \u001b[0;31m#return 1. / (1. + np.exp(-f))\u001b[0m\u001b[0;34m\u001b[0m\u001b[0;34m\u001b[0m\u001b[0;34m\u001b[0m\u001b[0m\n\u001b[1;32m      6\u001b[0m \u001b[0;34m\u001b[0m\u001b[0m\n",
      "\u001b[0;31mTypeError\u001b[0m: only size-1 arrays can be converted to Python scalars"
     ]
    }
   ],
   "source": [
    "%%time\n",
    "#вариант №1 - градиентный спуск\n",
    "#массив весов для нашего уровнения с 4-мя факторами х; начальные значения \"из головы\"\n",
    "w = [0, 0, -1, 0.6, 0]\n",
    "#скорость обучения\n",
    "lr = 0.01\n",
    "#количество повторения обучения\n",
    "n_epochs = 2000\n",
    "\n",
    "w_opt, loss_mean_array = graddescent(lr, w, n_epochs, X, Y)\n",
    "\n",
    "plt.plot(range(0, n_epochs), loss_mean_array, 'r-')\n",
    "plt.title('Ошибка')\n",
    "plt.show()\n",
    "\n",
    "print(w_opt)"
   ]
  },
  {
   "cell_type": "code",
   "execution_count": 42,
   "id": "b5fbfe9b",
   "metadata": {},
   "outputs": [
    {
     "data": {
      "image/png": "[encoded data removed]",
      "text/plain": [
       "<Figure size 432x288 with 1 Axes>"
      ]
     },
     "metadata": {
      "needs_background": "light"
     },
     "output_type": "display_data"
    },
    {
     "name": "stdout",
     "output_type": "stream",
     "text": [
      "[0.013877383545301925, 0.05050062162249315, -0.09526775969905918, 0.09173230831157894, 0.02450951088526409]\n",
      "CPU times: user 246 ms, sys: 25 ms, total: 271 ms\n",
      "Wall time: 261 ms\n"
     ]
    }
   ],
   "source": [
    "%%time\n",
    "#вариант №2 - стохастический градиентный спуск\n",
    "w = [0, 0, -1, 0.6, 0]\n",
    "lr = 0.01\n",
    "n_epochs = 100\n",
    "\n",
    "w_opt, loss_mean_array = stochastic_graddescent(lr, w, n_epochs, X, Y)\n",
    "\n",
    "plt.plot(range(0, n_epochs), loss_mean_array, 'r-')\n",
    "plt.title('Ошибка')\n",
    "plt.show()\n",
    "\n",
    "print(w_opt)"
   ]
  },
  {
   "cell_type": "code",
   "execution_count": 43,
   "id": "31ef77cb",
   "metadata": {},
   "outputs": [
    {
     "data": {
      "image/png": "[encoded data removed]",
      "text/plain": [
       "<Figure size 432x288 with 1 Axes>"
      ]
     },
     "metadata": {
      "needs_background": "light"
     },
     "output_type": "display_data"
    },
    {
     "name": "stdout",
     "output_type": "stream",
     "text": [
      "[0.06026683303650455, -0.7859457229047021, -1.0899223083970548, 3.855428181589823, 4.0149715637042425]\n",
      "CPU times: user 715 ms, sys: 19.5 ms, total: 734 ms\n",
      "Wall time: 734 ms\n"
     ]
    }
   ],
   "source": [
    "%%time\n",
    "#вариант №3 - Nesterov Accelerated Gradient\n",
    "w = [0, 0, -1, 0.6, 0]\n",
    "lr = 0.01\n",
    "n_epochs = 2000\n",
    "nm = 0.9\n",
    "\n",
    "w_opt, loss_mean_array = nesterov_momentum(nm, lr, w, n_epochs, X, Y)\n",
    "\n",
    "plt.plot(range(0, n_epochs), loss_mean_array, 'r-')\n",
    "plt.title('Ошибка')\n",
    "plt.show()\n",
    "\n",
    "print(w_opt)"
   ]
  },
  {
   "cell_type": "code",
   "execution_count": 44,
   "id": "45f3da49",
   "metadata": {},
   "outputs": [
    {
     "data": {
      "image/png": "[encoded data removed]",
      "text/plain": [
       "<Figure size 432x288 with 1 Axes>"
      ]
     },
     "metadata": {
      "needs_background": "light"
     },
     "output_type": "display_data"
    },
    {
     "name": "stdout",
     "output_type": "stream",
     "text": [
      "[-0.33120623347121336, -1.6037421041712312, -2.1235889421071197, 7.491158283255068, 7.430657885480052]\n",
      "CPU times: user 987 ms, sys: 20 ms, total: 1.01 s\n",
      "Wall time: 1.01 s\n"
     ]
    }
   ],
   "source": [
    "%%time\n",
    "#вариант №4 - RMSProp\n",
    "w = [0, 0, -1, 0.6, 0]\n",
    "lr = 0.01\n",
    "n_epochs = 2000\n",
    "nm = 0.9\n",
    "e = 10e-6\n",
    "\n",
    "w_opt, loss_mean_array = rmsprop(e, nm, lr, w, n_epochs, X, Y)\n",
    "\n",
    "plt.plot(range(0, n_epochs), loss_mean_array, 'r-')\n",
    "plt.title('Ошибка')\n",
    "plt.show()\n",
    "\n",
    "print(w_opt)"
   ]
  },
  {
   "cell_type": "code",
   "execution_count": null,
   "id": "53b3bf41",
   "metadata": {},
   "outputs": [],
   "source": []
  },
  {
   "cell_type": "code",
   "execution_count": null,
   "id": "ce6a8684",
   "metadata": {},
   "outputs": [],
   "source": []
  }
 ],
 "metadata": {
  "kernelspec": {
   "display_name": "Python 3",
   "language": "python",
   "name": "python3"
  },
  "language_info": {
   "codemirror_mode": {
    "name": "ipython",
    "version": 3
   },
   "file_extension": ".py",
   "mimetype": "text/x-python",
   "name": "python",
   "nbconvert_exporter": "python",
   "pygments_lexer": "ipython3",
   "version": "3.8.10"
  }
 },
 "nbformat": 4,
 "nbformat_minor": 5
}
