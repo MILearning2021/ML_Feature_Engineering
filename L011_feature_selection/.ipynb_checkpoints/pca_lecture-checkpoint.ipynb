{
 "cells": [
  {
   "cell_type": "code",
   "execution_count": 1,
   "metadata": {
    "id": "qQyffSwyrsZl"
   },
   "outputs": [],
   "source": [
    "import numpy as np\n",
    "from matplotlib import pyplot as plt"
   ]
  },
  {
   "cell_type": "code",
   "execution_count": 2,
   "metadata": {
    "id": "Lmb_GVNcrsZs",
    "outputId": "85114046-f235-4621-d468-e2e6e0e04421"
   },
   "outputs": [
    {
     "name": "stdout",
     "output_type": "stream",
     "text": [
      "[[ 100.94259377  203.98850726  292.85956649  399.14305288  503.53267767\n",
      "   598.88214743  712.67980703  793.24520507  906.70678515 1000.61862751]\n",
      " [ 195.92896372  409.88183229  591.25863237  799.45548348 1001.29398174\n",
      "  1195.03223349 1419.7053222  1579.75517766 1810.49307386 2002.96899616]]\n"
     ]
    }
   ],
   "source": [
    "x = np.arange(1,11) * (100 + np.random.randn(10))\n",
    "y = 2 * x + np.random.randn(10)*5\n",
    "X = np.vstack((x,y))\n",
    "print(X)"
   ]
  },
  {
   "cell_type": "code",
   "execution_count": 3,
   "metadata": {
    "id": "_3u2MyAursZt",
    "outputId": "dbd0314a-abc3-47a3-d543-17e33e659465"
   },
   "outputs": [
    {
     "data": {
      "image/png": "[encoded data removed]",
      "text/plain": [
       "<Figure size 432x288 with 1 Axes>"
      ]
     },
     "metadata": {
      "needs_background": "light"
     },
     "output_type": "display_data"
    }
   ],
   "source": [
    "plt.scatter(X[0], X[1])\n",
    "plt.show()"
   ]
  },
  {
   "cell_type": "code",
   "execution_count": 4,
   "metadata": {
    "id": "3-4sAimxrsZu",
    "outputId": "e6bed7ea-6520-4dd4-e8e9-2984b4f23b17"
   },
   "outputs": [
    {
     "name": "stdout",
     "output_type": "stream",
     "text": [
      "(array([-450.31730325, -347.27138976, -258.40033054, -152.11684415,\n",
      "        -47.72721935,   47.6222504 ,  161.41991   ,  241.98530804,\n",
      "        355.44688812,  449.35873048]), array([-904.64840598, -690.69553741, -509.31873733, -301.12188621,\n",
      "        -99.28338795,   94.45486379,  319.1279525 ,  479.17780796,\n",
      "        709.91570416,  902.39162646]))\n",
      "Mean vector:  (551.2598970246411, 1100.577369697277)\n"
     ]
    }
   ],
   "source": [
    "Xcentered = (X[0] - x.mean(), X[1] - y.mean())\n",
    "m = (x.mean(), y.mean())\n",
    "print(Xcentered)\n",
    "print(\"Mean vector: \", m)"
   ]
  },
  {
   "cell_type": "code",
   "execution_count": 5,
   "metadata": {
    "id": "krwc6Qb0rsZu",
    "outputId": "d3c66d9f-4f7f-482c-b075-b1ed00b0921e"
   },
   "outputs": [
    {
     "data": {
      "image/png": "[encoded data removed]",
      "text/plain": [
       "<Figure size 432x288 with 1 Axes>"
      ]
     },
     "metadata": {
      "needs_background": "light"
     },
     "output_type": "display_data"
    }
   ],
   "source": [
    "plt.scatter(Xcentered[0], Xcentered[1])\n",
    "plt.show()"
   ]
  },
  {
   "cell_type": "code",
   "execution_count": 6,
   "metadata": {
    "id": "YuqtZXA0rsZv",
    "outputId": "4a643f27-701e-4851-e5a4-607fbe46fcb0"
   },
   "outputs": [
    {
     "data": {
      "text/plain": [
       "(10, 2)"
      ]
     },
     "execution_count": 6,
     "metadata": {},
     "output_type": "execute_result"
    }
   ],
   "source": [
    "X.T.shape"
   ]
  },
  {
   "cell_type": "code",
   "execution_count": 7,
   "metadata": {
    "id": "QvYJw9yDrsZv",
    "outputId": "e9ca721c-3375-4955-e30e-43a8ea8a3006"
   },
   "outputs": [
    {
     "name": "stdout",
     "output_type": "stream",
     "text": [
      "[[ 92302.01762711 184354.51360505]\n",
      " [184354.51360505 368228.1021139 ]] \n",
      "\n",
      "Variance of X:  92302.01762711434\n",
      "Variance of Y:  368228.1021138961\n",
      "Covariance X and Y:  184354.5136050477\n"
     ]
    }
   ],
   "source": [
    "covmat = np.cov(Xcentered)\n",
    "print(covmat, \"\\n\")\n",
    "print(\"Variance of X: \", np.cov(Xcentered)[0,0])\n",
    "print(\"Variance of Y: \", np.cov(Xcentered)[1,1])\n",
    "print(\"Covariance X and Y: \", np.cov(Xcentered)[0,1])"
   ]
  },
  {
   "cell_type": "code",
   "execution_count": 8,
   "metadata": {
    "id": "gSEMfCEvrsZw",
    "outputId": "5fb81f88-b4d9-46c5-86b1-6e4942606cdc"
   },
   "outputs": [
    {
     "name": "stdout",
     "output_type": "stream",
     "text": [
      "[ 1010.52906873   773.08215436   571.11034971   337.36100908\n",
      "   110.14510708  -105.78048747  -357.62672027  -536.80983376\n",
      "  -793.92871021 -1008.08193723]\n"
     ]
    }
   ],
   "source": [
    "_, vecs = np.linalg.eig(covmat)\n",
    "v = vecs[:,1]\n",
    "Xnew = np.dot(v, Xcentered)\n",
    "print(Xnew)"
   ]
  },
  {
   "cell_type": "code",
   "execution_count": 9,
   "metadata": {
    "id": "CA4xseONrsZw",
    "outputId": "b231a721-31b2-47c4-8e77-1bd07af0412d"
   },
   "outputs": [
    {
     "data": {
      "text/plain": [
       "array([ 1010.52906873,   773.08215436,   571.11034971,   337.36100908,\n",
       "         110.14510708,  -105.78048747,  -357.62672027,  -536.80983376,\n",
       "        -793.92871021, -1008.08193723])"
      ]
     },
     "execution_count": 9,
     "metadata": {},
     "output_type": "execute_result"
    }
   ],
   "source": [
    "Xnew"
   ]
  },
  {
   "cell_type": "code",
   "execution_count": 10,
   "metadata": {
    "id": "5qjb2rezrsZw",
    "outputId": "2ae30b75-44c4-4a48-b081-08ad3b81309b"
   },
   "outputs": [
    {
     "data": {
      "text/plain": [
       "(array([-0.44768408, -0.89419179]), (2,))"
      ]
     },
     "execution_count": 10,
     "metadata": {},
     "output_type": "execute_result"
    }
   ],
   "source": [
    "v, v.shape"
   ]
  },
  {
   "cell_type": "code",
   "execution_count": 11,
   "metadata": {
    "id": "1YIAgqDJrsZx",
    "outputId": "07dc3b9b-5870-47a9-94a0-5c14e742a676"
   },
   "outputs": [
    {
     "data": {
      "text/plain": [
       "(array([-450.31730325, -347.27138976, -258.40033054, -152.11684415,\n",
       "         -47.72721935,   47.6222504 ,  161.41991   ,  241.98530804,\n",
       "         355.44688812,  449.35873048]),\n",
       " array([-904.64840598, -690.69553741, -509.31873733, -301.12188621,\n",
       "         -99.28338795,   94.45486379,  319.1279525 ,  479.17780796,\n",
       "         709.91570416,  902.39162646]))"
      ]
     },
     "execution_count": 11,
     "metadata": {},
     "output_type": "execute_result"
    }
   ],
   "source": [
    "Xcentered"
   ]
  },
  {
   "cell_type": "code",
   "execution_count": 12,
   "metadata": {
    "id": "rNw6NgtnrsZx",
    "outputId": "f940bbe0-8f6a-437e-d6bc-46e939893d78"
   },
   "outputs": [
    {
     "data": {
      "text/plain": [
       "(551.2598970246411, 1100.577369697277)"
      ]
     },
     "execution_count": 12,
     "metadata": {},
     "output_type": "execute_result"
    }
   ],
   "source": [
    "m"
   ]
  },
  {
   "cell_type": "code",
   "execution_count": 13,
   "metadata": {
    "id": "ZJVyFnmXrsZx",
    "outputId": "38ac973f-db6c-4d6b-cacf-bccc07a731dc"
   },
   "outputs": [
    {
     "name": "stdout",
     "output_type": "stream",
     "text": [
      "Restored:  [ 906.68914007 1810.501908  ]\n",
      "Original:  [ 906.70678515 1810.49307386]\n"
     ]
    }
   ],
   "source": [
    "n = 8     #номер элемента случайной величины\n",
    "Xrestored = np.dot(Xnew[n],v) + m\n",
    "print('Restored: ', Xrestored)\n",
    "print('Original: ', X[:,n])"
   ]
  },
  {
   "cell_type": "code",
   "execution_count": null,
   "metadata": {
    "id": "MP2OnjgErsZy"
   },
   "outputs": [],
   "source": []
  },
  {
   "cell_type": "code",
   "execution_count": 14,
   "metadata": {
    "id": "V0KZJ1xKrsZy"
   },
   "outputs": [],
   "source": [
    "from sklearn.decomposition import PCA\n",
    "\n",
    "pca = PCA(n_components = 1)\n",
    "XPCAreduced = pca.fit_transform(np.transpose(X))"
   ]
  },
  {
   "cell_type": "code",
   "execution_count": 15,
   "metadata": {
    "id": "ZIDaiPNlrsZy",
    "outputId": "cee6ec5f-8047-4c24-ddb6-8f1dff5b575a"
   },
   "outputs": [
    {
     "name": "stdout",
     "output_type": "stream",
     "text": [
      "1010.5290687259966 - 1010.5290687259973 = 6.821210263296962e-13\n",
      "773.0821543575323 - 773.0821543575328 = 4.547473508864641e-13\n",
      "571.110349708415 - 571.1103497084152 = 2.2737367544323206e-13\n",
      "337.36100907882394 - 337.3610090788241 = 1.7053025658242404e-13\n",
      "110.14510708172838 - 110.14510708172843 = 4.263256414560601e-14\n",
      "-105.78048746891935 - -105.78048746891939 = 4.263256414560601e-14\n",
      "-357.62672027133556 - -357.62672027133567 = 1.1368683772161603e-13\n",
      "-536.8098337645772 - -536.8098337645773 = 1.1368683772161603e-13\n",
      "-793.9287102128449 - -793.9287102128452 = 3.410605131648481e-13\n",
      "-1008.0819372348207 - -1008.0819372348209 = 2.2737367544323206e-13\n"
     ]
    }
   ],
   "source": [
    "for xn, x_pca in zip(Xnew, XPCAreduced):\n",
    "    print(xn, '-', x_pca[0], '=', np.abs(xn - x_pca[0]))"
   ]
  },
  {
   "cell_type": "code",
   "execution_count": null,
   "metadata": {},
   "outputs": [],
   "source": []
  }
 ],
 "metadata": {
  "colab": {
   "name": "pca_практика.ipynb",
   "provenance": []
  },
  "kernelspec": {
   "display_name": "Python 3",
   "language": "python",
   "name": "python3"
  },
  "language_info": {
   "codemirror_mode": {
    "name": "ipython",
    "version": 3
   },
   "file_extension": ".py",
   "mimetype": "text/x-python",
   "name": "python",
   "nbconvert_exporter": "python",
   "pygments_lexer": "ipython3",
   "version": "3.8.10"
  }
 },
 "nbformat": 4,
 "nbformat_minor": 1
}
