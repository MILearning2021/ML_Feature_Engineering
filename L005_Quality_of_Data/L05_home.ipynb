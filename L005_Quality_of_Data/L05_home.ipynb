{
 "cells": [
  {
   "cell_type": "code",
   "execution_count": 55,
   "id": "8f64c2ae",
   "metadata": {},
   "outputs": [],
   "source": [
    "import numpy as np\n",
    "import pandas as pd\n",
    "\n",
    "from sklearn.linear_model import LinearRegression\n",
    "from sklearn.metrics import mean_absolute_error, mean_squared_error"
   ]
  },
  {
   "cell_type": "code",
   "execution_count": 133,
   "id": "70569a7c",
   "metadata": {},
   "outputs": [
    {
     "name": "stdout",
     "output_type": "stream",
     "text": [
      "<class 'pandas.core.frame.DataFrame'>\n",
      "RangeIndex: 1000 entries, 0 to 999\n",
      "Data columns (total 6 columns):\n",
      " #   Column          Non-Null Count  Dtype  \n",
      "---  ------          --------------  -----  \n",
      " 0   math            1000 non-null   int64  \n",
      " 1   lang            1000 non-null   int64  \n",
      " 2   sing            1000 non-null   int64  \n",
      " 3   daylight_hours  1000 non-null   float64\n",
      " 4   school_psy      1000 non-null   int64  \n",
      " 5   avto_price      1000 non-null   float64\n",
      "dtypes: float64(2), int64(4)\n",
      "memory usage: 47.0 KB\n"
     ]
    },
    {
     "data": {
      "text/html": [
       "<div>\n",
       "<style scoped>\n",
       "    .dataframe tbody tr th:only-of-type {\n",
       "        vertical-align: middle;\n",
       "    }\n",
       "\n",
       "    .dataframe tbody tr th {\n",
       "        vertical-align: top;\n",
       "    }\n",
       "\n",
       "    .dataframe thead th {\n",
       "        text-align: right;\n",
       "    }\n",
       "</style>\n",
       "<table border=\"1\" class=\"dataframe\">\n",
       "  <thead>\n",
       "    <tr style=\"text-align: right;\">\n",
       "      <th></th>\n",
       "      <th>math</th>\n",
       "      <th>lang</th>\n",
       "      <th>sing</th>\n",
       "      <th>daylight_hours</th>\n",
       "      <th>school_psy</th>\n",
       "      <th>avto_price</th>\n",
       "    </tr>\n",
       "  </thead>\n",
       "  <tbody>\n",
       "    <tr>\n",
       "      <th>0</th>\n",
       "      <td>38</td>\n",
       "      <td>61</td>\n",
       "      <td>16</td>\n",
       "      <td>14.3</td>\n",
       "      <td>1</td>\n",
       "      <td>1990.2</td>\n",
       "    </tr>\n",
       "    <tr>\n",
       "      <th>1</th>\n",
       "      <td>38</td>\n",
       "      <td>71</td>\n",
       "      <td>74</td>\n",
       "      <td>14.3</td>\n",
       "      <td>0</td>\n",
       "      <td>2340.6</td>\n",
       "    </tr>\n",
       "    <tr>\n",
       "      <th>2</th>\n",
       "      <td>17</td>\n",
       "      <td>34</td>\n",
       "      <td>57</td>\n",
       "      <td>14.2</td>\n",
       "      <td>0</td>\n",
       "      <td>631.0</td>\n",
       "    </tr>\n",
       "    <tr>\n",
       "      <th>3</th>\n",
       "      <td>20</td>\n",
       "      <td>26</td>\n",
       "      <td>94</td>\n",
       "      <td>14.3</td>\n",
       "      <td>1</td>\n",
       "      <td>614.2</td>\n",
       "    </tr>\n",
       "    <tr>\n",
       "      <th>4</th>\n",
       "      <td>42</td>\n",
       "      <td>28</td>\n",
       "      <td>70</td>\n",
       "      <td>14.3</td>\n",
       "      <td>0</td>\n",
       "      <td>1119.8</td>\n",
       "    </tr>\n",
       "  </tbody>\n",
       "</table>\n",
       "</div>"
      ],
      "text/plain": [
       "   math  lang  sing  daylight_hours  school_psy  avto_price\n",
       "0    38    61    16            14.3           1      1990.2\n",
       "1    38    71    74            14.3           0      2340.6\n",
       "2    17    34    57            14.2           0       631.0\n",
       "3    20    26    94            14.3           1       614.2\n",
       "4    42    28    70            14.3           0      1119.8"
      ]
     },
     "execution_count": 133,
     "metadata": {},
     "output_type": "execute_result"
    }
   ],
   "source": [
    "#придумаем датасет о баллах, полученных на экзаменах в американской школе (Оклахома-Сити)\n",
    "#math, lang, sing - баллы по предметам,  daylight_hours - продолжительность светового дня в день экзамена\n",
    "#school_psy - посещал ли ученик школьного психолога, avto_price - стоимость автомобиля,\n",
    "#полученного учеником от родителей по окончании школы (целевой параметр)\n",
    "\n",
    "n_samples = 1000\n",
    "\n",
    "#np.random.seed(0)\n",
    "\n",
    "math = np.random.choice(30, n_samples) + 15\n",
    "lang = np.random.choice(50, n_samples) + 25\n",
    "sing = np.random.choice(84, n_samples) + 16\n",
    "daylight_hours = np.random.choice(5, n_samples) / 10 + 14\n",
    "school_psy = np.random.choice([0, 1], n_samples)\n",
    "\n",
    "avto_price = (math * lang + sing) * 0.8 + 123.0\n",
    "\n",
    "df = pd.DataFrame({'math':math, 'lang':lang, 'sing':sing, 'daylight_hours':daylight_hours, \\\n",
    "                   'school_psy': school_psy, 'avto_price':avto_price})\n",
    "\n",
    "df.info()\n",
    "df.head()"
   ]
  },
  {
   "cell_type": "code",
   "execution_count": 134,
   "id": "0f9cfa89",
   "metadata": {},
   "outputs": [
    {
     "name": "stdout",
     "output_type": "stream",
     "text": [
      "Веса модели: [39.89749044 23.71471896  0.55473085 32.4930048  -2.92908565]\n",
      "Смещение: -1506.1643344764404\n",
      "MAE: 76.8544744851543\n",
      "RMSE: 100.88983249765633\n"
     ]
    }
   ],
   "source": [
    "#В1 - включим все признаки в модель\n",
    "lr = LinearRegression()\n",
    "\n",
    "X = df.drop('avto_price', axis = 1)\n",
    "Y = df['avto_price']\n",
    "\n",
    "lr.fit(X,Y)\n",
    "pred_Y = lr.predict(X)\n",
    "\n",
    "print(f'Веса модели: {lr.coef_}')\n",
    "print(f'Смещение: {lr.intercept_}')\n",
    "print(f'MAE: {mean_absolute_error(pred_Y, Y)}')\n",
    "print(f'RMSE: {np.sqrt(mean_squared_error(pred_Y, Y))}')"
   ]
  },
  {
   "cell_type": "markdown",
   "id": "5e637c2f",
   "metadata": {},
   "source": [
    "получили параметры модели, большое смещение и не самые большие ошибки;\n",
    "если рассчитать модель для, например, сэмпла \"0\", то получим значение 1926.617 (при истинном 1990.2), что\n",
    "укладывается в диапазон ошибки 76.85"
   ]
  },
  {
   "cell_type": "code",
   "execution_count": 135,
   "id": "a87db585",
   "metadata": {},
   "outputs": [
    {
     "name": "stdout",
     "output_type": "stream",
     "text": [
      "Веса модели: [39.92630556 23.69944535  0.55576042]\n",
      "Смещение: -1046.5212600876778\n",
      "MAE: 76.95308481908624\n",
      "RMSE: 101.00372296577133\n"
     ]
    }
   ],
   "source": [
    "#В2 - включим только оценки в модель\n",
    "lr = LinearRegression()\n",
    "\n",
    "X = df[['math', 'lang', 'sing']]\n",
    "Y = df['avto_price']\n",
    "\n",
    "lr.fit(X,Y)\n",
    "pred_Y = lr.predict(X)\n",
    "\n",
    "print(f'Веса модели: {lr.coef_}')\n",
    "print(f'Смещение: {lr.intercept_}')\n",
    "print(f'MAE: {mean_absolute_error(pred_Y, Y)}')\n",
    "print(f'RMSE: {np.sqrt(mean_squared_error(pred_Y, Y))}')"
   ]
  },
  {
   "cell_type": "markdown",
   "id": "9923e114",
   "metadata": {},
   "source": [
    "коэффициенты параметров math, lang, sing практически не изменились (вероятно, модель определила устойчивую зависимость от них целевой переменной), смещение уменьшилось по сравнению с В1 (из-за отсутствия влияния параметров daylight_hours и school_psy, вероятно, модель списывает на них всю разницу в истинных и предсказанных значениях после взвешивания math, lang и sing), ошибки практически одинаковы"
   ]
  },
  {
   "cell_type": "code",
   "execution_count": 145,
   "id": "91f13ce2",
   "metadata": {},
   "outputs": [
    {
     "name": "stdout",
     "output_type": "stream",
     "text": [
      "Веса модели: [0.8]\n",
      "Смещение: 122.99999999999955\n",
      "MAE: 1.750208866724279e-13\n",
      "RMSE: 2.531989902174324e-13\n"
     ]
    }
   ],
   "source": [
    "#В3 - введем синтетическую переменную в датасет, соответствующую переменной, примененной для рассчета\n",
    "#avto_price\n",
    "lr = LinearRegression()\n",
    "\n",
    "df['avg_score'] = df['math'] * df['lang'] + df['sing']\n",
    "\n",
    "X = df[['avg_score']]\n",
    "Y = df['avto_price']\n",
    "\n",
    "lr.fit(X,Y)\n",
    "pred_Y = lr.predict(X)\n",
    "\n",
    "print(f'Веса модели: {lr.coef_}')\n",
    "print(f'Смещение: {lr.intercept_}')\n",
    "print(f'MAE: {mean_absolute_error(pred_Y, Y)}')\n",
    "print(f'RMSE: {np.sqrt(mean_squared_error(pred_Y, Y))}')"
   ]
  },
  {
   "cell_type": "markdown",
   "id": "2c1363d6",
   "metadata": {},
   "source": [
    "модель определила зависимость, правильно подобрала коэффициент (0.8) и смещение (122.99999), ошибки исчезающе малы;"
   ]
  },
  {
   "cell_type": "markdown",
   "id": "752cb90a",
   "metadata": {},
   "source": [
    "Вывод: очень важно правильно определить значимые параметры, но лучше бы спрогнозировать вид зависимости Y от X-ов"
   ]
  },
  {
   "cell_type": "code",
   "execution_count": null,
   "id": "2fbe6417",
   "metadata": {},
   "outputs": [],
   "source": []
  },
  {
   "cell_type": "code",
   "execution_count": null,
   "id": "0f69fb06",
   "metadata": {},
   "outputs": [],
   "source": []
  },
  {
   "cell_type": "code",
   "execution_count": null,
   "id": "999158ca",
   "metadata": {},
   "outputs": [],
   "source": []
  },
  {
   "cell_type": "code",
   "execution_count": null,
   "id": "a83dc045",
   "metadata": {},
   "outputs": [],
   "source": []
  }
 ],
 "metadata": {
  "kernelspec": {
   "display_name": "Python 3",
   "language": "python",
   "name": "python3"
  },
  "language_info": {
   "codemirror_mode": {
    "name": "ipython",
    "version": 3
   },
   "file_extension": ".py",
   "mimetype": "text/x-python",
   "name": "python",
   "nbconvert_exporter": "python",
   "pygments_lexer": "ipython3",
   "version": "3.8.10"
  }
 },
 "nbformat": 4,
 "nbformat_minor": 5
}
