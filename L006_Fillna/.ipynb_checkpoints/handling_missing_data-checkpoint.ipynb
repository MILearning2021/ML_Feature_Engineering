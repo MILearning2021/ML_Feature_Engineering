{
 "cells": [
  {
   "cell_type": "code",
   "execution_count": 1,
   "metadata": {
    "id": "VOKQuuNRhjAn"
   },
   "outputs": [],
   "source": [
    "import numpy as np\n",
    "import seaborn as sns\n",
    "import pandas as pd # Для работы с данными\n",
    "import matplotlib.pyplot as plt  # Библиотека для визуализации результатов\n",
    "import warnings\n",
    "warnings.filterwarnings(\"ignore\")\n",
    "%matplotlib inline"
   ]
  },
  {
   "cell_type": "markdown",
   "metadata": {
    "id": "DEEHpvhVhjAq"
   },
   "source": [
    "<p style=\"align: center;\"><img align=center src=\"https://netology.ru/backend/tilda/images/tild3439-3364-4535-b334-656263633534__main.svg\"  width=900></p>\n",
    "<h3 style=\"text-align: center;\"><b>Работа с пропусками</b></h3>"
   ]
  },
  {
   "cell_type": "markdown",
   "metadata": {
    "id": "0YCT2mX4hjAq"
   },
   "source": [
    "<h1><u>План урока</u></h1>\n",
    "\n",
    "<p><font size=\"3\" face=\"Arial\">\n",
    "<ul type=\"square\"><a href=\"#1\"><li>Первичный анализ данных.</li></a><a href=\"#2\"><li>Обработка нулевых значений.</li></a><a href=\"#3\"><li>Практика.</li></a>\n",
    "    <ul><a href=\"#4\"><li>Первичный анализ.</li></a><a href=\"#5\"><li>Удаление бесполезных признаков.</li></a><a href=\"#6\"><li>Обработка пропущенных значений.</li></a></ul>    \n",
    "</ul></font></p>"
   ]
  },
  {
   "cell_type": "markdown",
   "metadata": {
    "id": "Pjk9o6HfhjAr"
   },
   "source": [
    "<h2>Первичный анализ данных</h2>\n",
    "<p id=\"1\">Важнейшим этапом предобработки данных является работа с нулевыми значениями/пропусками, помимо работы с переменными, выбросами и шумом. Все это может существенно улучшить качество модели. При знакомстве с новыми данными практически всегда стоит делать первичный (визуальный) анализ данных.</p>\n",
    "<p><b>EDA</b> (англ. exploratory data analysis) - это критически важный процесс первоначального исследования данных с помощью  сводной статистики и визуализации с 4 основными целями:<ul><li>Выявить паттерны/закономерности</li><li>Заметить анамолии/шум</li><li>Сформировать гипотезы</li><li>Проверить первичные предположения</li></ul></p>\n",
    "\n",
    "<p>Пример визуального анализа зависимостей данных о всеми известных ирисах Фишера:</p>\n",
    "<p style=\"align: center;\"><img align=center src=\"https://1.bp.blogspot.com/-_Zx9PRNDIu4/Xf_nkZozcLI/AAAAAAAAE3g/rOpxUSzOn-kxNNli8iSOXIJsStFTuJ3egCLcBGAsYHQ/s1600/3D_scatterplot_iris.png\"  width=800></p><br>\n",
    "<div class=\"alert alert-info\"><p><i>Что нас прежде всего интересует при первичном анализе данных?</i>\n",
    "<ol><li>Как собирались данные?</li><li>Сколько имеется переменных и что они  описывают?</li><li>Что обозначает каждая переменная, какие единицы измерения и как она собирается?</li><li>Есть ли пропущенные значения (NaN'ы, Not Available), и почему они возникли?</li><li>Есть ли выбросы в распределениях?</li><li>Присутствуют ли некие корреляции между переменными?</li></ol></div></p>"
   ]
  },
  {
   "cell_type": "markdown",
   "metadata": {
    "id": "7bO-vHZKhjAr"
   },
   "source": [
    "<h2>Обработка нулевых значений</h2>\n",
    "<p id=\"2\">В данном уроке пойдет речь о работе с пропущенными значениями в данных, он будет носить сугубо практический характер. Сразу оговоримся, чего <b>не стоит делать</b>, если Вы видите те или иные пропуски или нулевые значения, там где они быть не должны:\n",
    "<ul><li>Удалять столбец (признак) содержащий такое значение (значительная потеря информации).</li><li>Удалять строки более безопасно, но только в том случае, если данных достаточно много. Иначе - потеря информации.</li></ul>\n",
    "<p>Что обычно <b>нужно делать</b> с пропущенными значениями?</p>\n",
    "<ul><li>Заменять на среднее значение, медиану, моду</li><li>Indicator Method - замена пропущенных значений нулями и создание новой переменной индикатора (где она принимает значение 1 при наличие пропуска и 0 в остальных случаях).</li><li>Повторить результат последнего наблюдения (среднее между соседними).</li><li>Восстановление пропусков на основе моделей.</li></ul>\n",
    "<p style=\"align: center;\">Здесь Вы можете видеть все использующиеся подходы к работе с пропусками/нулевыми значениями:<img align=center src=\"https://miro.medium.com/max/2400/1*_RA3mCS30Pr0vUxbp25Yxw.png\"  width=800></p>"
   ]
  },
  {
   "cell_type": "markdown",
   "metadata": {
    "id": "K8Ng1eLdhjAt"
   },
   "source": [
    "<h2>Практика</h2>\n",
    "<p id=\"3\">И перейдем сразу к практике. Будем заниматься анализом датасетом стоимости квартир, вносить те или иные изменения и смотреть как это будет влиять на \"предсказательную\" силу модели.</p>"
   ]
  },
  {
   "cell_type": "code",
   "execution_count": 2,
   "metadata": {
    "id": "vyodmCVvhjAu"
   },
   "outputs": [],
   "source": [
    "from sklearn.linear_model import LinearRegression\n",
    "from sklearn.model_selection import train_test_split"
   ]
  },
  {
   "cell_type": "markdown",
   "metadata": {
    "id": "wcyEMBPVhjAu"
   },
   "source": [
    "<h3>Первичный анализ</h3>\n",
    "<p id=\"4\">Имеем 11330 объектов и 18 признаков. Для начала посмотрим какие признаки у нас есть. Это \"адресс\", \"кол-во ванных комнат\",\"кол-во спален\", \"влощадь в кв. фут\", \"последняя цена продажи\", и т.д.</p>\n"
   ]
  },
  {
   "cell_type": "code",
   "execution_count": 3,
   "metadata": {
    "id": "O3CiTIbdhjAv",
    "outputId": "68522898-78aa-48b7-df84-39cd4d289ada"
   },
   "outputs": [
    {
     "name": "stdout",
     "output_type": "stream",
     "text": [
      "(11330, 18)\n"
     ]
    },
    {
     "data": {
      "text/html": [
       "<div>\n",
       "<style scoped>\n",
       "    .dataframe tbody tr th:only-of-type {\n",
       "        vertical-align: middle;\n",
       "    }\n",
       "\n",
       "    .dataframe tbody tr th {\n",
       "        vertical-align: top;\n",
       "    }\n",
       "\n",
       "    .dataframe thead th {\n",
       "        text-align: right;\n",
       "    }\n",
       "</style>\n",
       "<table border=\"1\" class=\"dataframe\">\n",
       "  <thead>\n",
       "    <tr style=\"text-align: right;\">\n",
       "      <th></th>\n",
       "      <th>Unnamed: 0</th>\n",
       "      <th>address</th>\n",
       "      <th>z_address</th>\n",
       "      <th>bathrooms</th>\n",
       "      <th>bedrooms</th>\n",
       "      <th>finishedsqft</th>\n",
       "      <th>lastsolddate</th>\n",
       "      <th>lastsoldprice</th>\n",
       "      <th>latitude</th>\n",
       "      <th>longitude</th>\n",
       "      <th>neighborhood</th>\n",
       "      <th>totalrooms</th>\n",
       "      <th>usecode</th>\n",
       "      <th>yearbuilt</th>\n",
       "      <th>zestimate</th>\n",
       "      <th>zindexvalue</th>\n",
       "      <th>zipcode</th>\n",
       "      <th>zpid</th>\n",
       "    </tr>\n",
       "  </thead>\n",
       "  <tbody>\n",
       "    <tr>\n",
       "      <th>0</th>\n",
       "      <td>2</td>\n",
       "      <td>Address: 1160 Mission Street #2007</td>\n",
       "      <td>1160 Mission St UNIT 2007</td>\n",
       "      <td>2.0</td>\n",
       "      <td>2.0</td>\n",
       "      <td>1043.0</td>\n",
       "      <td>02/17/2016</td>\n",
       "      <td>1300000.0</td>\n",
       "      <td>37.778705</td>\n",
       "      <td>-122.412635</td>\n",
       "      <td>South of Market</td>\n",
       "      <td>4.0</td>\n",
       "      <td>Condominium</td>\n",
       "      <td>2007.0</td>\n",
       "      <td>1167508.0</td>\n",
       "      <td>975,700</td>\n",
       "      <td>94103.0</td>\n",
       "      <td>83152781.0</td>\n",
       "    </tr>\n",
       "    <tr>\n",
       "      <th>1</th>\n",
       "      <td>5</td>\n",
       "      <td>Address: 260 King Street #475</td>\n",
       "      <td>260 King St UNIT 475</td>\n",
       "      <td>1.0</td>\n",
       "      <td>1.0</td>\n",
       "      <td>903.0</td>\n",
       "      <td>02/17/2016</td>\n",
       "      <td>750000.0</td>\n",
       "      <td>37.777641</td>\n",
       "      <td>-122.393417</td>\n",
       "      <td>South of Market</td>\n",
       "      <td>3.0</td>\n",
       "      <td>Condominium</td>\n",
       "      <td>2004.0</td>\n",
       "      <td>823719.0</td>\n",
       "      <td>975,700</td>\n",
       "      <td>94107.0</td>\n",
       "      <td>69819817.0</td>\n",
       "    </tr>\n",
       "    <tr>\n",
       "      <th>2</th>\n",
       "      <td>7</td>\n",
       "      <td>Address: 560 Missouri Street #B</td>\n",
       "      <td>560 Missouri St # B</td>\n",
       "      <td>4.0</td>\n",
       "      <td>3.0</td>\n",
       "      <td>1425.0</td>\n",
       "      <td>02/17/2016</td>\n",
       "      <td>1495000.0</td>\n",
       "      <td>37.759198</td>\n",
       "      <td>-122.396516</td>\n",
       "      <td>Potrero Hill</td>\n",
       "      <td>6.0</td>\n",
       "      <td>Condominium</td>\n",
       "      <td>2003.0</td>\n",
       "      <td>1708594.0</td>\n",
       "      <td>1,277,600</td>\n",
       "      <td>94107.0</td>\n",
       "      <td>64972847.0</td>\n",
       "    </tr>\n",
       "  </tbody>\n",
       "</table>\n",
       "</div>"
      ],
      "text/plain": [
       "   Unnamed: 0                             address                  z_address  \\\n",
       "0           2  Address: 1160 Mission Street #2007  1160 Mission St UNIT 2007   \n",
       "1           5       Address: 260 King Street #475       260 King St UNIT 475   \n",
       "2           7     Address: 560 Missouri Street #B        560 Missouri St # B   \n",
       "\n",
       "   bathrooms  bedrooms  finishedsqft lastsolddate  lastsoldprice   latitude  \\\n",
       "0        2.0       2.0        1043.0   02/17/2016      1300000.0  37.778705   \n",
       "1        1.0       1.0         903.0   02/17/2016       750000.0  37.777641   \n",
       "2        4.0       3.0        1425.0   02/17/2016      1495000.0  37.759198   \n",
       "\n",
       "    longitude     neighborhood  totalrooms      usecode  yearbuilt  zestimate  \\\n",
       "0 -122.412635  South of Market         4.0  Condominium     2007.0  1167508.0   \n",
       "1 -122.393417  South of Market         3.0  Condominium     2004.0   823719.0   \n",
       "2 -122.396516     Potrero Hill         6.0  Condominium     2003.0  1708594.0   \n",
       "\n",
       "  zindexvalue  zipcode        zpid  \n",
       "0     975,700  94103.0  83152781.0  \n",
       "1     975,700  94107.0  69819817.0  \n",
       "2   1,277,600  94107.0  64972847.0  "
      ]
     },
     "execution_count": 3,
     "metadata": {},
     "output_type": "execute_result"
    }
   ],
   "source": [
    "data = pd.read_csv('https://raw.githubusercontent.com/flaymax/tmp/master/final_data.csv', delimiter=';')\n",
    "print(data.shape)\n",
    "data.head(3)"
   ]
  },
  {
   "cell_type": "markdown",
   "metadata": {
    "id": "BZ-xpvH5hjAw"
   },
   "source": [
    "Будем использовать линейную регрессию для тестирования качества данных. Сразу напишем функцию получения скор (параметр от 0 до 1, который показывает насколько точна наша модель по отношению к таргетной переменной), для удобства."
   ]
  },
  {
   "cell_type": "code",
   "execution_count": 4,
   "metadata": {
    "id": "hvV39B36hjAx"
   },
   "outputs": [],
   "source": [
    "def get_score(X,y, random_seed=42, model=None):\n",
    "    if model is None:\n",
    "        model = LinearRegression()\n",
    "    X_train, X_test, y_train, y_test = train_test_split(X, y, test_size=0.3, random_state=random_seed)  \n",
    "    model.fit(X_train, y_train)\n",
    "    return model.score(X_test, y_test)"
   ]
  },
  {
   "cell_type": "markdown",
   "metadata": {
    "id": "60zscuGdhjAx"
   },
   "source": [
    "Для поиска выбросов будем использовать boxplot, для выявления корреляций между переменными - pairplot."
   ]
  },
  {
   "cell_type": "code",
   "execution_count": 5,
   "metadata": {
    "id": "Ztxuf4wJhjAx"
   },
   "outputs": [],
   "source": [
    "def get_boxplot(X, columns=[]):\n",
    "    for i in columns:\n",
    "        sns.boxplot(x=X[i])\n",
    "        plt.show()\n",
    "    pass  \n",
    "\n",
    "def get_pairplot(X, columns=None):\n",
    "    if columns is None:\n",
    "        columns = list(X.columns)\n",
    "    sns.pairplot(X[columns])\n",
    "    pass    "
   ]
  },
  {
   "cell_type": "markdown",
   "metadata": {
    "id": "Dk8WYznRhjAy"
   },
   "source": [
    "Т.к. нам предстоит работать с пропусками, то для их заполнения будем использовать стандартные способы и напишем специальную функцию для этого.\n",
    "- заполнение значением\n",
    "- max\n",
    "- min\n",
    "- mode\n",
    "- median\n",
    "- mean\n",
    "- метод индикатора\n",
    "- линейная регрессия"
   ]
  },
  {
   "cell_type": "code",
   "execution_count": 6,
   "metadata": {
    "id": "nKVfHqqGhjAy"
   },
   "outputs": [],
   "source": [
    "def get_value(X, column, mode='mean', value=0, columns_for_reg=None): \n",
    "    if mode == 'value':\n",
    "        X.loc[X[X[column].isna()].index ,column] = value # заполнение значением\n",
    "    elif mode == 'max':\n",
    "        X.loc[X[X[column].isna()].index ,column] = X[column].max() # заполнение max\n",
    "    elif mode == 'min':\n",
    "        X.loc[X[X[column].isna()].index ,column] = X[column].min()  # заполнение min\n",
    "    elif mode == 'median':\n",
    "        X.loc[X[X[column].isna()].index ,column] = X[column].median()    # заполнение медианой\n",
    "    elif mode == 'mode':\n",
    "        X.loc[X[X[column].isna()].index, column] = X[column].mode()[0]   # заполнение модой\n",
    "    elif mode == 'indicator': # метод индикатора (принимает значение 1 при наличие пропуска и 0 в остальных случаях)\n",
    "        X['ind_'+str(column)] = 0\n",
    "        X.loc[X[X[column].isna()].index, 'ind_'+str(column)] = 1\n",
    "        X.loc[X[X[column].isna()].index, column] = 0     \n",
    "    elif mode == 'linreg':   # линейная регрессия\n",
    "        if columns_for_reg is None:\n",
    "            cols = list(X.select_dtypes([np.number]).columns) \n",
    "            cols.remove(column)\n",
    "        else:\n",
    "            cols = columns_for_reg\n",
    "        X_tmp = X.dropna()  \n",
    "        m = LinearRegression().fit(X_tmp[cols], X_tmp[column])\n",
    "        X.loc[X[X[column].isna()].index, column] = m.predict(X[X[column].isna()][cols])\n",
    "    else:\n",
    "        X.loc[X[X[column].isna()].index, column] = X[column].mean()  # по умолчанию среднее значение\n",
    "    return X.head(3)"
   ]
  },
  {
   "cell_type": "markdown",
   "metadata": {
    "id": "FVr7ayAQhjAz"
   },
   "source": [
    "Первое, что можно сделать при встрече с новыми данными это запустить функцию .info(), которая соберет информацию о датасете (названия признаков, тип данных, кол-во ненулевых значений)."
   ]
  },
  {
   "cell_type": "code",
   "execution_count": 7,
   "metadata": {
    "id": "TdGr7BeqhjAz",
    "outputId": "669e653c-f643-4a96-da82-a100c84fad10"
   },
   "outputs": [
    {
     "name": "stdout",
     "output_type": "stream",
     "text": [
      "<class 'pandas.core.frame.DataFrame'>\n",
      "RangeIndex: 11330 entries, 0 to 11329\n",
      "Data columns (total 18 columns):\n",
      " #   Column         Non-Null Count  Dtype  \n",
      "---  ------         --------------  -----  \n",
      " 0   Unnamed: 0     11330 non-null  int64  \n",
      " 1   address        11330 non-null  object \n",
      " 2   z_address      11330 non-null  object \n",
      " 3   bathrooms      11330 non-null  float64\n",
      " 4   bedrooms       11330 non-null  float64\n",
      " 5   finishedsqft   11211 non-null  float64\n",
      " 6   lastsolddate   11330 non-null  object \n",
      " 7   lastsoldprice  11330 non-null  float64\n",
      " 8   latitude       11315 non-null  float64\n",
      " 9   longitude      11315 non-null  float64\n",
      " 10  neighborhood   11330 non-null  object \n",
      " 11  totalrooms     11281 non-null  float64\n",
      " 12  usecode        11290 non-null  object \n",
      " 13  yearbuilt      11330 non-null  float64\n",
      " 14  zestimate      11330 non-null  float64\n",
      " 15  zindexvalue    11330 non-null  object \n",
      " 16  zipcode        11330 non-null  float64\n",
      " 17  zpid           11330 non-null  float64\n",
      "dtypes: float64(11), int64(1), object(6)\n",
      "memory usage: 1.6+ MB\n"
     ]
    }
   ],
   "source": [
    "data.info()"
   ]
  },
  {
   "cell_type": "markdown",
   "metadata": {
    "id": "5k6V8sI6hjAz"
   },
   "source": [
    "Также можно вызвать функцию .describe(), которая подсчитает статистики по всем количественными переменным (кол-во, среднее, дисперсию, квартили и т.д.)"
   ]
  },
  {
   "cell_type": "code",
   "execution_count": 8,
   "metadata": {
    "id": "jPwWqAX4hjAz",
    "outputId": "54425ae3-88fb-428f-db45-4efa2c7b6fbf"
   },
   "outputs": [
    {
     "data": {
      "text/html": [
       "<div>\n",
       "<style scoped>\n",
       "    .dataframe tbody tr th:only-of-type {\n",
       "        vertical-align: middle;\n",
       "    }\n",
       "\n",
       "    .dataframe tbody tr th {\n",
       "        vertical-align: top;\n",
       "    }\n",
       "\n",
       "    .dataframe thead th {\n",
       "        text-align: right;\n",
       "    }\n",
       "</style>\n",
       "<table border=\"1\" class=\"dataframe\">\n",
       "  <thead>\n",
       "    <tr style=\"text-align: right;\">\n",
       "      <th></th>\n",
       "      <th>count</th>\n",
       "      <th>mean</th>\n",
       "      <th>std</th>\n",
       "      <th>min</th>\n",
       "      <th>25%</th>\n",
       "      <th>50%</th>\n",
       "      <th>75%</th>\n",
       "      <th>max</th>\n",
       "    </tr>\n",
       "  </thead>\n",
       "  <tbody>\n",
       "    <tr>\n",
       "      <th>Unnamed: 0</th>\n",
       "      <td>11330.0</td>\n",
       "      <td>9.171729e+03</td>\n",
       "      <td>4.921941e+03</td>\n",
       "      <td>2.000000e+00</td>\n",
       "      <td>5.039750e+03</td>\n",
       "      <td>9.198500e+03</td>\n",
       "      <td>1.337475e+04</td>\n",
       "      <td>1.763200e+04</td>\n",
       "    </tr>\n",
       "    <tr>\n",
       "      <th>bathrooms</th>\n",
       "      <td>11330.0</td>\n",
       "      <td>1.980229e+00</td>\n",
       "      <td>1.047358e+00</td>\n",
       "      <td>5.000000e-01</td>\n",
       "      <td>1.000000e+00</td>\n",
       "      <td>2.000000e+00</td>\n",
       "      <td>2.000000e+00</td>\n",
       "      <td>1.400000e+01</td>\n",
       "    </tr>\n",
       "    <tr>\n",
       "      <th>bedrooms</th>\n",
       "      <td>11330.0</td>\n",
       "      <td>2.614475e+00</td>\n",
       "      <td>1.299457e+00</td>\n",
       "      <td>0.000000e+00</td>\n",
       "      <td>2.000000e+00</td>\n",
       "      <td>2.000000e+00</td>\n",
       "      <td>3.000000e+00</td>\n",
       "      <td>2.000000e+01</td>\n",
       "    </tr>\n",
       "    <tr>\n",
       "      <th>finishedsqft</th>\n",
       "      <td>11211.0</td>\n",
       "      <td>1.586081e+03</td>\n",
       "      <td>9.228158e+02</td>\n",
       "      <td>1.000000e+00</td>\n",
       "      <td>1.019000e+03</td>\n",
       "      <td>1.362000e+03</td>\n",
       "      <td>1.878000e+03</td>\n",
       "      <td>2.727500e+04</td>\n",
       "    </tr>\n",
       "    <tr>\n",
       "      <th>lastsoldprice</th>\n",
       "      <td>11330.0</td>\n",
       "      <td>1.263928e+06</td>\n",
       "      <td>1.042079e+06</td>\n",
       "      <td>5.350000e+02</td>\n",
       "      <td>7.292500e+05</td>\n",
       "      <td>9.900000e+05</td>\n",
       "      <td>1.450000e+06</td>\n",
       "      <td>2.388900e+07</td>\n",
       "    </tr>\n",
       "    <tr>\n",
       "      <th>latitude</th>\n",
       "      <td>11315.0</td>\n",
       "      <td>3.775971e+01</td>\n",
       "      <td>2.558255e-02</td>\n",
       "      <td>3.770817e+01</td>\n",
       "      <td>3.773928e+01</td>\n",
       "      <td>3.776051e+01</td>\n",
       "      <td>3.778139e+01</td>\n",
       "      <td>3.780608e+01</td>\n",
       "    </tr>\n",
       "    <tr>\n",
       "      <th>longitude</th>\n",
       "      <td>11315.0</td>\n",
       "      <td>-1.224365e+02</td>\n",
       "      <td>3.074240e-02</td>\n",
       "      <td>-1.225107e+02</td>\n",
       "      <td>-1.224551e+02</td>\n",
       "      <td>-1.224325e+02</td>\n",
       "      <td>-1.224134e+02</td>\n",
       "      <td>-1.223812e+02</td>\n",
       "    </tr>\n",
       "    <tr>\n",
       "      <th>totalrooms</th>\n",
       "      <td>11281.0</td>\n",
       "      <td>6.113997e+00</td>\n",
       "      <td>1.215120e+01</td>\n",
       "      <td>1.000000e+00</td>\n",
       "      <td>4.000000e+00</td>\n",
       "      <td>5.000000e+00</td>\n",
       "      <td>7.000000e+00</td>\n",
       "      <td>1.264000e+03</td>\n",
       "    </tr>\n",
       "    <tr>\n",
       "      <th>yearbuilt</th>\n",
       "      <td>11330.0</td>\n",
       "      <td>1.948498e+03</td>\n",
       "      <td>3.791120e+01</td>\n",
       "      <td>1.860000e+03</td>\n",
       "      <td>1.916000e+03</td>\n",
       "      <td>1.940000e+03</td>\n",
       "      <td>1.986000e+03</td>\n",
       "      <td>2.016000e+03</td>\n",
       "    </tr>\n",
       "    <tr>\n",
       "      <th>zestimate</th>\n",
       "      <td>11330.0</td>\n",
       "      <td>1.565695e+06</td>\n",
       "      <td>1.229417e+06</td>\n",
       "      <td>4.323850e+05</td>\n",
       "      <td>9.052375e+05</td>\n",
       "      <td>1.230758e+06</td>\n",
       "      <td>1.731170e+06</td>\n",
       "      <td>1.553325e+07</td>\n",
       "    </tr>\n",
       "    <tr>\n",
       "      <th>zipcode</th>\n",
       "      <td>11330.0</td>\n",
       "      <td>9.411691e+04</td>\n",
       "      <td>9.400877e+00</td>\n",
       "      <td>9.410200e+04</td>\n",
       "      <td>9.411000e+04</td>\n",
       "      <td>9.411500e+04</td>\n",
       "      <td>9.412300e+04</td>\n",
       "      <td>9.415800e+04</td>\n",
       "    </tr>\n",
       "    <tr>\n",
       "      <th>zpid</th>\n",
       "      <td>11330.0</td>\n",
       "      <td>3.689973e+07</td>\n",
       "      <td>7.800741e+07</td>\n",
       "      <td>1.506329e+07</td>\n",
       "      <td>1.510847e+07</td>\n",
       "      <td>1.515697e+07</td>\n",
       "      <td>5.970040e+07</td>\n",
       "      <td>2.146999e+09</td>\n",
       "    </tr>\n",
       "  </tbody>\n",
       "</table>\n",
       "</div>"
      ],
      "text/plain": [
       "                 count          mean           std           min  \\\n",
       "Unnamed: 0     11330.0  9.171729e+03  4.921941e+03  2.000000e+00   \n",
       "bathrooms      11330.0  1.980229e+00  1.047358e+00  5.000000e-01   \n",
       "bedrooms       11330.0  2.614475e+00  1.299457e+00  0.000000e+00   \n",
       "finishedsqft   11211.0  1.586081e+03  9.228158e+02  1.000000e+00   \n",
       "lastsoldprice  11330.0  1.263928e+06  1.042079e+06  5.350000e+02   \n",
       "latitude       11315.0  3.775971e+01  2.558255e-02  3.770817e+01   \n",
       "longitude      11315.0 -1.224365e+02  3.074240e-02 -1.225107e+02   \n",
       "totalrooms     11281.0  6.113997e+00  1.215120e+01  1.000000e+00   \n",
       "yearbuilt      11330.0  1.948498e+03  3.791120e+01  1.860000e+03   \n",
       "zestimate      11330.0  1.565695e+06  1.229417e+06  4.323850e+05   \n",
       "zipcode        11330.0  9.411691e+04  9.400877e+00  9.410200e+04   \n",
       "zpid           11330.0  3.689973e+07  7.800741e+07  1.506329e+07   \n",
       "\n",
       "                        25%           50%           75%           max  \n",
       "Unnamed: 0     5.039750e+03  9.198500e+03  1.337475e+04  1.763200e+04  \n",
       "bathrooms      1.000000e+00  2.000000e+00  2.000000e+00  1.400000e+01  \n",
       "bedrooms       2.000000e+00  2.000000e+00  3.000000e+00  2.000000e+01  \n",
       "finishedsqft   1.019000e+03  1.362000e+03  1.878000e+03  2.727500e+04  \n",
       "lastsoldprice  7.292500e+05  9.900000e+05  1.450000e+06  2.388900e+07  \n",
       "latitude       3.773928e+01  3.776051e+01  3.778139e+01  3.780608e+01  \n",
       "longitude     -1.224551e+02 -1.224325e+02 -1.224134e+02 -1.223812e+02  \n",
       "totalrooms     4.000000e+00  5.000000e+00  7.000000e+00  1.264000e+03  \n",
       "yearbuilt      1.916000e+03  1.940000e+03  1.986000e+03  2.016000e+03  \n",
       "zestimate      9.052375e+05  1.230758e+06  1.731170e+06  1.553325e+07  \n",
       "zipcode        9.411000e+04  9.411500e+04  9.412300e+04  9.415800e+04  \n",
       "zpid           1.510847e+07  1.515697e+07  5.970040e+07  2.146999e+09  "
      ]
     },
     "execution_count": 8,
     "metadata": {},
     "output_type": "execute_result"
    }
   ],
   "source": [
    "data.describe().T"
   ]
  },
  {
   "cell_type": "markdown",
   "metadata": {
    "id": "RM1HPF69hjAz"
   },
   "source": [
    "Отсюда уже сразу можно увидеть выбросы. Например, видим, что имеется квартира с 1264 комнатами, квартира площадью 1 кв.фут, квартира стоимостью 535$ и т.д."
   ]
  },
  {
   "cell_type": "markdown",
   "metadata": {
    "id": "Hcbx-Yn-hjA0"
   },
   "source": [
    "<h3>Удаление бесполезных признаков</h3>\n",
    "<p id=\"5\">Рассмотрим на первый взгляд непонятный признак 'Unnamed: 0'. Проверим предположении, что это какой-то технический номер, который остался после формирования датасета, и на стоимость квартир влиять не будет.</p>"
   ]
  },
  {
   "cell_type": "code",
   "execution_count": 9,
   "metadata": {
    "id": "q4T7YCfahjA0",
    "outputId": "375439a1-6e0c-4f65-8dc6-676ae3adb8f6"
   },
   "outputs": [
    {
     "data": {
      "text/plain": [
       "16384    1\n",
       "17117    1\n",
       "10944    1\n",
       "8897     1\n",
       "15042    1\n",
       "        ..\n",
       "9518     1\n",
       "11567    1\n",
       "5424     1\n",
       "13620    1\n",
       "2047     1\n",
       "Name: Unnamed: 0, Length: 11330, dtype: int64"
      ]
     },
     "execution_count": 9,
     "metadata": {},
     "output_type": "execute_result"
    }
   ],
   "source": [
    "data['Unnamed: 0'].value_counts(dropna=False)"
   ]
  },
  {
   "cell_type": "markdown",
   "metadata": {
    "id": "DTzcfdsGhjA1"
   },
   "source": [
    "Видим, что зависимость линейная и эта колонка не представляет интереса. Ее можно удалить."
   ]
  },
  {
   "cell_type": "code",
   "execution_count": 10,
   "metadata": {
    "id": "vRcHL_DrhjA1",
    "outputId": "74d08097-3a7b-4bff-9c1c-b4c063089fe7"
   },
   "outputs": [
    {
     "data": {
      "image/png": "[encoded data removed]",
      "text/plain": [
       "<Figure size 432x288 with 1 Axes>"
      ]
     },
     "metadata": {
      "needs_background": "light"
     },
     "output_type": "display_data"
    }
   ],
   "source": [
    "plt.scatter(data.index, data['Unnamed: 0'], s=1)\n",
    "plt.grid()"
   ]
  },
  {
   "cell_type": "code",
   "execution_count": 11,
   "metadata": {
    "id": "QwATOh2khjA1"
   },
   "outputs": [],
   "source": [
    "data.drop(columns=['Unnamed: 0'], inplace=True)"
   ]
  },
  {
   "cell_type": "markdown",
   "metadata": {
    "id": "pxzrl22bhjA1"
   },
   "source": [
    "Также можно выбросить колонки 'zindexvalue', 'zpid' т.к. это артефакты, которые остались после оценки zestimate, которые никак не влияют на оценку стоимости квартиры."
   ]
  },
  {
   "cell_type": "code",
   "execution_count": 12,
   "metadata": {
    "id": "z87Bi7RghjA2"
   },
   "outputs": [],
   "source": [
    "data.drop(columns=['zindexvalue','zpid'], inplace=True)"
   ]
  },
  {
   "cell_type": "markdown",
   "metadata": {
    "id": "5EKcYKGNhjA2"
   },
   "source": [
    "Итого имеем 15 признаков (используем .columns). И теперь можно заняться пропущенными значениями и дальнейшим анализом."
   ]
  },
  {
   "cell_type": "code",
   "execution_count": 13,
   "metadata": {
    "id": "_VDobMsAhjA2",
    "outputId": "c5fb2ba6-e587-4112-f20a-a774e407ea12"
   },
   "outputs": [
    {
     "data": {
      "text/plain": [
       "Index(['address', 'z_address', 'bathrooms', 'bedrooms', 'finishedsqft',\n",
       "       'lastsolddate', 'lastsoldprice', 'latitude', 'longitude',\n",
       "       'neighborhood', 'totalrooms', 'usecode', 'yearbuilt', 'zestimate',\n",
       "       'zipcode'],\n",
       "      dtype='object')"
      ]
     },
     "execution_count": 13,
     "metadata": {},
     "output_type": "execute_result"
    }
   ],
   "source": [
    "data.columns"
   ]
  },
  {
   "cell_type": "markdown",
   "metadata": {
    "id": "dkoRG-xohjA2"
   },
   "source": [
    "<h3>Обработка пропущенных значений</h3>\n",
    "<p id=\"6\">Для начала посмотрим какое значение выдаст наша функция get_score без всяческой обработки, на сырых данных. Будем считать этот результат базовым.</p>"
   ]
  },
  {
   "cell_type": "code",
   "execution_count": 14,
   "metadata": {
    "id": "vTnYMrkohjA2",
    "outputId": "12cf0567-1a82-4920-d4ce-c089ee658f17"
   },
   "outputs": [
    {
     "data": {
      "text/plain": [
       "0.82752496134552"
      ]
     },
     "execution_count": 14,
     "metadata": {},
     "output_type": "execute_result"
    }
   ],
   "source": [
    "cols = ['bathrooms', 'bedrooms', 'finishedsqft', \n",
    "        'lastsoldprice', 'latitude', 'longitude', 'totalrooms', 'yearbuilt']\n",
    "target = ['zestimate']\n",
    "get_score(data.dropna()[cols], data.dropna()[target])"
   ]
  },
  {
   "cell_type": "markdown",
   "metadata": {
    "id": "k_ZCCOo9hjA3"
   },
   "source": [
    "Сначала посмотрим выбросы, а после этого будем заполнять пропущенные значения. Возьмем признак площади квартиры. Построим боксплот и посмотрим распределение."
   ]
  },
  {
   "cell_type": "code",
   "execution_count": 15,
   "metadata": {
    "id": "cnW1-Rv8hjA3",
    "outputId": "d7275ba5-197f-4583-f1bd-285fd9a7bb72"
   },
   "outputs": [
    {
     "data": {
      "image/png": "[encoded data removed]",
      "text/plain": [
       "<Figure size 432x288 with 1 Axes>"
      ]
     },
     "metadata": {
      "needs_background": "light"
     },
     "output_type": "display_data"
    },
    {
     "data": {
      "image/png": "[encoded data removed]",
      "text/plain": [
       "<Figure size 432x288 with 1 Axes>"
      ]
     },
     "metadata": {
      "needs_background": "light"
     },
     "output_type": "display_data"
    },
    {
     "data": {
      "image/png": "[encoded data removed]",
      "text/plain": [
       "<Figure size 432x288 with 1 Axes>"
      ]
     },
     "metadata": {
      "needs_background": "light"
     },
     "output_type": "display_data"
    },
    {
     "data": {
      "image/png": "[encoded data removed]",
      "text/plain": [
       "<Figure size 432x288 with 1 Axes>"
      ]
     },
     "metadata": {
      "needs_background": "light"
     },
     "output_type": "display_data"
    },
    {
     "data": {
      "image/png": "[encoded data removed]",
      "text/plain": [
       "<Figure size 432x288 with 1 Axes>"
      ]
     },
     "metadata": {
      "needs_background": "light"
     },
     "output_type": "display_data"
    },
    {
     "data": {
      "image/png": "[encoded data removed]",
      "text/plain": [
       "<Figure size 432x288 with 1 Axes>"
      ]
     },
     "metadata": {
      "needs_background": "light"
     },
     "output_type": "display_data"
    },
    {
     "data": {
      "image/png": "[encoded data removed]",
      "text/plain": [
       "<Figure size 432x288 with 1 Axes>"
      ]
     },
     "metadata": {
      "needs_background": "light"
     },
     "output_type": "display_data"
    },
    {
     "data": {
      "image/png": "[encoded data removed]",
      "text/plain": [
       "<Figure size 432x288 with 1 Axes>"
      ]
     },
     "metadata": {
      "needs_background": "light"
     },
     "output_type": "display_data"
    }
   ],
   "source": [
    "get_boxplot(data, columns = cols) #['finishedsqft'])"
   ]
  },
  {
   "cell_type": "code",
   "execution_count": 16,
   "metadata": {
    "id": "OiN4FrKghjA3",
    "outputId": "7de8d3bb-3423-4861-87a9-687a3884334d"
   },
   "outputs": [
    {
     "data": {
      "image/png": "[encoded data removed]",
      "text/plain": [
       "<Figure size 432x288 with 1 Axes>"
      ]
     },
     "metadata": {
      "needs_background": "light"
     },
     "output_type": "display_data"
    }
   ],
   "source": [
    "data['finishedsqft'].hist(bins=100)\n",
    "plt.show()"
   ]
  },
  {
   "cell_type": "markdown",
   "metadata": {
    "id": "ZjmtUaKqhjA3"
   },
   "source": [
    "Видим явный выброс на боксплоте. Это явная ошибка при заполнении данных. Если посмотреть на этот объект подробнее, то можно увидеть, что на 6 комнат приходится 27275 кв. фут."
   ]
  },
  {
   "cell_type": "code",
   "execution_count": 17,
   "metadata": {
    "id": "WKu-6vvYhjA4",
    "outputId": "829f63dc-86bb-4f1d-cc37-c4d5660574ec"
   },
   "outputs": [
    {
     "data": {
      "text/html": [
       "<div>\n",
       "<style scoped>\n",
       "    .dataframe tbody tr th:only-of-type {\n",
       "        vertical-align: middle;\n",
       "    }\n",
       "\n",
       "    .dataframe tbody tr th {\n",
       "        vertical-align: top;\n",
       "    }\n",
       "\n",
       "    .dataframe thead th {\n",
       "        text-align: right;\n",
       "    }\n",
       "</style>\n",
       "<table border=\"1\" class=\"dataframe\">\n",
       "  <thead>\n",
       "    <tr style=\"text-align: right;\">\n",
       "      <th></th>\n",
       "      <th>address</th>\n",
       "      <th>z_address</th>\n",
       "      <th>bathrooms</th>\n",
       "      <th>bedrooms</th>\n",
       "      <th>finishedsqft</th>\n",
       "      <th>lastsolddate</th>\n",
       "      <th>lastsoldprice</th>\n",
       "      <th>latitude</th>\n",
       "      <th>longitude</th>\n",
       "      <th>neighborhood</th>\n",
       "      <th>totalrooms</th>\n",
       "      <th>usecode</th>\n",
       "      <th>yearbuilt</th>\n",
       "      <th>zestimate</th>\n",
       "      <th>zipcode</th>\n",
       "    </tr>\n",
       "  </thead>\n",
       "  <tbody>\n",
       "    <tr>\n",
       "      <th>4997</th>\n",
       "      <td>Address: 1645 Pacific Avenue</td>\n",
       "      <td>1645 Pacific Ave</td>\n",
       "      <td>2.0</td>\n",
       "      <td>2.0</td>\n",
       "      <td>27275.0</td>\n",
       "      <td>03/31/2015</td>\n",
       "      <td>600000.0</td>\n",
       "      <td>37.794658</td>\n",
       "      <td>-122.422325</td>\n",
       "      <td>Nob Hill</td>\n",
       "      <td>6.0</td>\n",
       "      <td>Condominium</td>\n",
       "      <td>1906.0</td>\n",
       "      <td>6754185.0</td>\n",
       "      <td>94109.0</td>\n",
       "    </tr>\n",
       "  </tbody>\n",
       "</table>\n",
       "</div>"
      ],
      "text/plain": [
       "                           address         z_address  bathrooms  bedrooms  \\\n",
       "4997  Address: 1645 Pacific Avenue  1645 Pacific Ave        2.0       2.0   \n",
       "\n",
       "      finishedsqft lastsolddate  lastsoldprice   latitude   longitude  \\\n",
       "4997       27275.0   03/31/2015       600000.0  37.794658 -122.422325   \n",
       "\n",
       "     neighborhood  totalrooms      usecode  yearbuilt  zestimate  zipcode  \n",
       "4997     Nob Hill         6.0  Condominium     1906.0  6754185.0  94109.0  "
      ]
     },
     "execution_count": 17,
     "metadata": {},
     "output_type": "execute_result"
    }
   ],
   "source": [
    "data[data['finishedsqft'] > 15000]"
   ]
  },
  {
   "cell_type": "markdown",
   "metadata": {
    "id": "4rZXLQ5IhjA4"
   },
   "source": [
    "Удаляем выброс и заполняем нулевые значения методом линейной регрессии."
   ]
  },
  {
   "cell_type": "code",
   "execution_count": 18,
   "metadata": {
    "id": "bP5_cp2ChjA4",
    "outputId": "f93861bd-2766-48a9-9d9f-dd47a0232a2e",
    "scrolled": true
   },
   "outputs": [
    {
     "data": {
      "text/html": [
       "<div>\n",
       "<style scoped>\n",
       "    .dataframe tbody tr th:only-of-type {\n",
       "        vertical-align: middle;\n",
       "    }\n",
       "\n",
       "    .dataframe tbody tr th {\n",
       "        vertical-align: top;\n",
       "    }\n",
       "\n",
       "    .dataframe thead th {\n",
       "        text-align: right;\n",
       "    }\n",
       "</style>\n",
       "<table border=\"1\" class=\"dataframe\">\n",
       "  <thead>\n",
       "    <tr style=\"text-align: right;\">\n",
       "      <th></th>\n",
       "      <th>address</th>\n",
       "      <th>z_address</th>\n",
       "      <th>bathrooms</th>\n",
       "      <th>bedrooms</th>\n",
       "      <th>finishedsqft</th>\n",
       "      <th>lastsolddate</th>\n",
       "      <th>lastsoldprice</th>\n",
       "      <th>latitude</th>\n",
       "      <th>longitude</th>\n",
       "      <th>neighborhood</th>\n",
       "      <th>totalrooms</th>\n",
       "      <th>usecode</th>\n",
       "      <th>yearbuilt</th>\n",
       "      <th>zestimate</th>\n",
       "      <th>zipcode</th>\n",
       "    </tr>\n",
       "  </thead>\n",
       "  <tbody>\n",
       "    <tr>\n",
       "      <th>0</th>\n",
       "      <td>Address: 1160 Mission Street #2007</td>\n",
       "      <td>1160 Mission St UNIT 2007</td>\n",
       "      <td>2.0</td>\n",
       "      <td>2.0</td>\n",
       "      <td>1043.0</td>\n",
       "      <td>02/17/2016</td>\n",
       "      <td>1300000.0</td>\n",
       "      <td>37.778705</td>\n",
       "      <td>-122.412635</td>\n",
       "      <td>South of Market</td>\n",
       "      <td>4.0</td>\n",
       "      <td>Condominium</td>\n",
       "      <td>2007.0</td>\n",
       "      <td>1167508.0</td>\n",
       "      <td>94103.0</td>\n",
       "    </tr>\n",
       "    <tr>\n",
       "      <th>1</th>\n",
       "      <td>Address: 260 King Street #475</td>\n",
       "      <td>260 King St UNIT 475</td>\n",
       "      <td>1.0</td>\n",
       "      <td>1.0</td>\n",
       "      <td>903.0</td>\n",
       "      <td>02/17/2016</td>\n",
       "      <td>750000.0</td>\n",
       "      <td>37.777641</td>\n",
       "      <td>-122.393417</td>\n",
       "      <td>South of Market</td>\n",
       "      <td>3.0</td>\n",
       "      <td>Condominium</td>\n",
       "      <td>2004.0</td>\n",
       "      <td>823719.0</td>\n",
       "      <td>94107.0</td>\n",
       "    </tr>\n",
       "    <tr>\n",
       "      <th>2</th>\n",
       "      <td>Address: 560 Missouri Street #B</td>\n",
       "      <td>560 Missouri St # B</td>\n",
       "      <td>4.0</td>\n",
       "      <td>3.0</td>\n",
       "      <td>1425.0</td>\n",
       "      <td>02/17/2016</td>\n",
       "      <td>1495000.0</td>\n",
       "      <td>37.759198</td>\n",
       "      <td>-122.396516</td>\n",
       "      <td>Potrero Hill</td>\n",
       "      <td>6.0</td>\n",
       "      <td>Condominium</td>\n",
       "      <td>2003.0</td>\n",
       "      <td>1708594.0</td>\n",
       "      <td>94107.0</td>\n",
       "    </tr>\n",
       "  </tbody>\n",
       "</table>\n",
       "</div>"
      ],
      "text/plain": [
       "                              address                  z_address  bathrooms  \\\n",
       "0  Address: 1160 Mission Street #2007  1160 Mission St UNIT 2007        2.0   \n",
       "1       Address: 260 King Street #475       260 King St UNIT 475        1.0   \n",
       "2     Address: 560 Missouri Street #B        560 Missouri St # B        4.0   \n",
       "\n",
       "   bedrooms  finishedsqft lastsolddate  lastsoldprice   latitude   longitude  \\\n",
       "0       2.0        1043.0   02/17/2016      1300000.0  37.778705 -122.412635   \n",
       "1       1.0         903.0   02/17/2016       750000.0  37.777641 -122.393417   \n",
       "2       3.0        1425.0   02/17/2016      1495000.0  37.759198 -122.396516   \n",
       "\n",
       "      neighborhood  totalrooms      usecode  yearbuilt  zestimate  zipcode  \n",
       "0  South of Market         4.0  Condominium     2007.0  1167508.0  94103.0  \n",
       "1  South of Market         3.0  Condominium     2004.0   823719.0  94107.0  \n",
       "2     Potrero Hill         6.0  Condominium     2003.0  1708594.0  94107.0  "
      ]
     },
     "execution_count": 18,
     "metadata": {},
     "output_type": "execute_result"
    }
   ],
   "source": [
    "data = data[(data['finishedsqft'] < 15000) | (data['finishedsqft'].isna())]\n",
    "get_value(data, 'finishedsqft', mode='linreg', columns_for_reg=['bathrooms', 'bedrooms', 'lastsoldprice', 'latitude', 'longitude', 'yearbuilt'])"
   ]
  },
  {
   "cell_type": "markdown",
   "metadata": {
    "id": "-CTZuPK7hjA4"
   },
   "source": [
    "Посмотрим на широтy и долготу. Видим, что во всех выбросах широты и долготы, пропущены сразу оба значения. Нет объектов, где пропущено что-то одно (берем индексы NaN'ов из широты, делаем из них множество и вычетаем множество индексов NaN'ов долготы, получаем пустое множество)."
   ]
  },
  {
   "cell_type": "code",
   "execution_count": 19,
   "metadata": {
    "id": "T8N1YbkphjA4",
    "outputId": "65839bde-7e7d-40c5-ce08-b4619feca9a6"
   },
   "outputs": [
    {
     "data": {
      "text/plain": [
       "set()"
      ]
     },
     "execution_count": 19,
     "metadata": {},
     "output_type": "execute_result"
    }
   ],
   "source": [
    "set(data[data['latitude'].isna()].index) - set(data[data['longitude'].isna()].index)"
   ]
  },
  {
   "cell_type": "markdown",
   "metadata": {
    "id": "pNT9rzXmhjA5"
   },
   "source": [
    "Посмотрим есть ли у этих квартир пересечения по адресу с другими. Видим пересечение только у 3 объектов. Их можно заполнить скопировав широту и долготу."
   ]
  },
  {
   "cell_type": "code",
   "execution_count": 20,
   "metadata": {
    "id": "Biv_RT3mhjA5",
    "outputId": "73867b56-005b-4c19-d6f2-f1de36f6e31d"
   },
   "outputs": [
    {
     "data": {
      "text/plain": [
       "{'1015 Ashbury St APT 2', '1566 27th Ave', '5853 Mission St APT 4'}"
      ]
     },
     "execution_count": 20,
     "metadata": {},
     "output_type": "execute_result"
    }
   ],
   "source": [
    "set_address_for_lat_long = set(data[data['latitude'].isna()]['z_address']) & set(data[~data['latitude'].isna()]['z_address'])\n",
    "set_address_for_lat_long"
   ]
  },
  {
   "cell_type": "code",
   "execution_count": 30,
   "metadata": {},
   "outputs": [],
   "source": [
    "#мой код - работает\n",
    "for item in set_address_for_lat_long:\n",
    "    cur_item = data[data['z_address'] == item]\n",
    "    lat = cur_item[~cur_item['latitude'].isna()]['latitude'].iloc[0]\n",
    "    long = cur_item[~cur_item['longitude'].isna()]['longitude'].iloc[0]\n",
    "    data.loc[(data['z_address'] == item), 'latitude'] = lat\n",
    "    data.loc[(data['z_address'] == item), 'longitude'] = long"
   ]
  },
  {
   "cell_type": "code",
   "execution_count": 31,
   "metadata": {
    "id": "JDo4daNbhjA5"
   },
   "outputs": [
    {
     "data": {
      "text/plain": [
       "\" исходный код - не работает\\n\\nfor i, el in data[data['latitude'].isna()].iterrows():\\n    cur_el = data[data['z_address'] == el['z_address']]\\n    \\n    print(cur_el)\\n    \\n    if cur_el.shape[0] > 1:\\n        data.loc[i, 'latitude'] = cur_el.iloc[1]['latitude']\\n        data.loc[i, 'longitude'] = cur_el.iloc[1]['longitude']\\n        print(i, '---', data.loc[i, 'latitude'])\\n        print(i, '---', data.loc[i, 'latitude'])\\n        print('------------------------------------')\\n        \\n\""
      ]
     },
     "execution_count": 31,
     "metadata": {},
     "output_type": "execute_result"
    }
   ],
   "source": [
    "\"\"\" исходный код - не работает\n",
    "\n",
    "for i, el in data[data['latitude'].isna()].iterrows():\n",
    "    cur_el = data[data['z_address'] == el['z_address']]\n",
    "    \n",
    "    print(cur_el)\n",
    "    \n",
    "    if cur_el.shape[0] > 1:\n",
    "        data.loc[i, 'latitude'] = cur_el.iloc[1]['latitude']\n",
    "        data.loc[i, 'longitude'] = cur_el.iloc[1]['longitude']\n",
    "        print(i, '---', data.loc[i, 'latitude'])\n",
    "        print(i, '---', data.loc[i, 'latitude'])\n",
    "        print('------------------------------------')\n",
    "        \n",
    "\"\"\""
   ]
  },
  {
   "cell_type": "markdown",
   "metadata": {
    "id": "0miJHk2AhjA5"
   },
   "source": [
    "Для других объектов заполним пропущенные значения медианой по принадлежности району. Для этого получим уникальные сочетания почтовых индексов и районов, и выведем для этих сочетаний медианные значения широты и долготы."
   ]
  },
  {
   "cell_type": "code",
   "execution_count": 32,
   "metadata": {
    "id": "eWYwV-A1hjA5",
    "outputId": "5d40d48d-9bcc-4aaa-9381-d83abe7cd6f4"
   },
   "outputs": [
    {
     "data": {
      "text/html": [
       "<div>\n",
       "<style scoped>\n",
       "    .dataframe tbody tr th:only-of-type {\n",
       "        vertical-align: middle;\n",
       "    }\n",
       "\n",
       "    .dataframe tbody tr th {\n",
       "        vertical-align: top;\n",
       "    }\n",
       "\n",
       "    .dataframe thead th {\n",
       "        text-align: right;\n",
       "    }\n",
       "</style>\n",
       "<table border=\"1\" class=\"dataframe\">\n",
       "  <thead>\n",
       "    <tr style=\"text-align: right;\">\n",
       "      <th></th>\n",
       "      <th>zipcode</th>\n",
       "      <th>neighborhood</th>\n",
       "      <th>latitude</th>\n",
       "      <th>longitude</th>\n",
       "    </tr>\n",
       "  </thead>\n",
       "  <tbody>\n",
       "    <tr>\n",
       "      <th>0</th>\n",
       "      <td>94102.0</td>\n",
       "      <td>Downtown</td>\n",
       "      <td>37.786190</td>\n",
       "      <td>-122.407630</td>\n",
       "    </tr>\n",
       "    <tr>\n",
       "      <th>1</th>\n",
       "      <td>94102.0</td>\n",
       "      <td>Hayes Valley</td>\n",
       "      <td>37.772243</td>\n",
       "      <td>-122.426551</td>\n",
       "    </tr>\n",
       "    <tr>\n",
       "      <th>2</th>\n",
       "      <td>94102.0</td>\n",
       "      <td>Van Ness - Civic Center</td>\n",
       "      <td>37.781386</td>\n",
       "      <td>-122.421406</td>\n",
       "    </tr>\n",
       "    <tr>\n",
       "      <th>3</th>\n",
       "      <td>94103.0</td>\n",
       "      <td>Mission</td>\n",
       "      <td>37.766736</td>\n",
       "      <td>-122.421846</td>\n",
       "    </tr>\n",
       "    <tr>\n",
       "      <th>4</th>\n",
       "      <td>94103.0</td>\n",
       "      <td>South of Market</td>\n",
       "      <td>37.775993</td>\n",
       "      <td>-122.411809</td>\n",
       "    </tr>\n",
       "    <tr>\n",
       "      <th>...</th>\n",
       "      <td>...</td>\n",
       "      <td>...</td>\n",
       "      <td>...</td>\n",
       "      <td>...</td>\n",
       "    </tr>\n",
       "    <tr>\n",
       "      <th>124</th>\n",
       "      <td>94134.0</td>\n",
       "      <td>Excelsior</td>\n",
       "      <td>37.728280</td>\n",
       "      <td>-122.423571</td>\n",
       "    </tr>\n",
       "    <tr>\n",
       "      <th>125</th>\n",
       "      <td>94134.0</td>\n",
       "      <td>Little Hollywood</td>\n",
       "      <td>37.712230</td>\n",
       "      <td>-122.398930</td>\n",
       "    </tr>\n",
       "    <tr>\n",
       "      <th>126</th>\n",
       "      <td>94134.0</td>\n",
       "      <td>Portola</td>\n",
       "      <td>37.726208</td>\n",
       "      <td>-122.411113</td>\n",
       "    </tr>\n",
       "    <tr>\n",
       "      <th>127</th>\n",
       "      <td>94134.0</td>\n",
       "      <td>Visitacion Valley</td>\n",
       "      <td>37.714392</td>\n",
       "      <td>-122.405860</td>\n",
       "    </tr>\n",
       "    <tr>\n",
       "      <th>128</th>\n",
       "      <td>94158.0</td>\n",
       "      <td>South of Market</td>\n",
       "      <td>37.773929</td>\n",
       "      <td>-122.396240</td>\n",
       "    </tr>\n",
       "  </tbody>\n",
       "</table>\n",
       "<p>129 rows × 4 columns</p>\n",
       "</div>"
      ],
      "text/plain": [
       "     zipcode             neighborhood   latitude   longitude\n",
       "0    94102.0                 Downtown  37.786190 -122.407630\n",
       "1    94102.0             Hayes Valley  37.772243 -122.426551\n",
       "2    94102.0  Van Ness - Civic Center  37.781386 -122.421406\n",
       "3    94103.0                  Mission  37.766736 -122.421846\n",
       "4    94103.0          South of Market  37.775993 -122.411809\n",
       "..       ...                      ...        ...         ...\n",
       "124  94134.0                Excelsior  37.728280 -122.423571\n",
       "125  94134.0         Little Hollywood  37.712230 -122.398930\n",
       "126  94134.0                  Portola  37.726208 -122.411113\n",
       "127  94134.0        Visitacion Valley  37.714392 -122.405860\n",
       "128  94158.0          South of Market  37.773929 -122.396240\n",
       "\n",
       "[129 rows x 4 columns]"
      ]
     },
     "execution_count": 32,
     "metadata": {},
     "output_type": "execute_result"
    }
   ],
   "source": [
    "data.groupby(['zipcode', 'neighborhood']).agg({'latitude':'median', 'longitude':'median'}).reset_index()"
   ]
  },
  {
   "cell_type": "code",
   "execution_count": 33,
   "metadata": {
    "id": "WelE63B2hjA5"
   },
   "outputs": [],
   "source": [
    "data_long_lat = data.groupby(['zipcode', 'neighborhood']).agg({'latitude':'median', 'longitude':'median'}).reset_index()\n",
    "for i, el in data[data['latitude'].isna()].iterrows():\n",
    "    data.loc[i, 'latitude'] = data_long_lat[(data_long_lat['zipcode'] == el['zipcode']) & (data_long_lat['neighborhood'] == el['neighborhood'])]['latitude'].values[0]\n",
    "    data.loc[i, 'longitude'] = data_long_lat[(data_long_lat['zipcode'] == el['zipcode']) & (data_long_lat['neighborhood'] == el['neighborhood'])]['longitude'].values[0]"
   ]
  },
  {
   "cell_type": "markdown",
   "metadata": {
    "id": "jGY6aCUAhjA5"
   },
   "source": [
    "Видим, что широту и долготу заполнили. Посмотрим на промежуточный скор."
   ]
  },
  {
   "cell_type": "code",
   "execution_count": 34,
   "metadata": {
    "id": "ZQpxEHiHhjA6",
    "outputId": "6e6da3e0-d8fb-4b2a-e6ed-628d156b410f"
   },
   "outputs": [
    {
     "name": "stdout",
     "output_type": "stream",
     "text": [
      "<class 'pandas.core.frame.DataFrame'>\n",
      "Int64Index: 11329 entries, 0 to 11329\n",
      "Data columns (total 15 columns):\n",
      " #   Column         Non-Null Count  Dtype  \n",
      "---  ------         --------------  -----  \n",
      " 0   address        11329 non-null  object \n",
      " 1   z_address      11329 non-null  object \n",
      " 2   bathrooms      11329 non-null  float64\n",
      " 3   bedrooms       11329 non-null  float64\n",
      " 4   finishedsqft   11329 non-null  float64\n",
      " 5   lastsolddate   11329 non-null  object \n",
      " 6   lastsoldprice  11329 non-null  float64\n",
      " 7   latitude       11329 non-null  float64\n",
      " 8   longitude      11329 non-null  float64\n",
      " 9   neighborhood   11329 non-null  object \n",
      " 10  totalrooms     11280 non-null  float64\n",
      " 11  usecode        11289 non-null  object \n",
      " 12  yearbuilt      11329 non-null  float64\n",
      " 13  zestimate      11329 non-null  float64\n",
      " 14  zipcode        11329 non-null  float64\n",
      "dtypes: float64(10), object(5)\n",
      "memory usage: 1.6+ MB\n"
     ]
    }
   ],
   "source": [
    "data.info()"
   ]
  },
  {
   "cell_type": "markdown",
   "metadata": {
    "id": "3Cy8GEIshjA6"
   },
   "source": [
    "В результате этих манипуляций подняли скор на 2%."
   ]
  },
  {
   "cell_type": "code",
   "execution_count": 35,
   "metadata": {
    "id": "BRvwe1VvhjA6",
    "outputId": "6d3da0e8-7a19-45e6-dc3f-31ef5760ec15"
   },
   "outputs": [
    {
     "data": {
      "text/plain": [
       "0.8406653997827988"
      ]
     },
     "execution_count": 35,
     "metadata": {},
     "output_type": "execute_result"
    }
   ],
   "source": [
    "cols = ['bathrooms', 'bedrooms', 'finishedsqft', \n",
    "        'lastsoldprice', 'latitude', 'longitude', 'totalrooms', 'yearbuilt']\n",
    "target = ['zestimate']\n",
    "get_score(data.dropna()[cols], data.dropna()[target])"
   ]
  },
  {
   "cell_type": "markdown",
   "metadata": {
    "id": "47HEQzHAhjA6"
   },
   "source": [
    "Теперь посмотрим признак \"totalrooms\". Для начала надо убрать выбросы. Строим для этого боксплот."
   ]
  },
  {
   "cell_type": "code",
   "execution_count": 36,
   "metadata": {
    "id": "IB22_wddhjA6",
    "outputId": "021977ca-0fde-4d0d-be66-d267f8342b99",
    "scrolled": false
   },
   "outputs": [
    {
     "data": {
      "image/png": "[encoded data removed]",
      "text/plain": [
       "<Figure size 432x288 with 1 Axes>"
      ]
     },
     "metadata": {
      "needs_background": "light"
     },
     "output_type": "display_data"
    }
   ],
   "source": [
    "get_boxplot(data, ['totalrooms'])"
   ]
  },
  {
   "cell_type": "markdown",
   "metadata": {
    "id": "SzD7MzRWhjA6"
   },
   "source": [
    "Видим 2 явных выброса. Имеется объект с 94 комнатами на 805 кв. футов и 1264 комнатами на 1264 кв. фута. Удаляем их, скорее всего это ошибка ручного ввода."
   ]
  },
  {
   "cell_type": "code",
   "execution_count": 37,
   "metadata": {
    "id": "Cu-v5JYLhjA7",
    "outputId": "98ded74a-f2f8-4f4f-eca2-8b55145fa632",
    "scrolled": true
   },
   "outputs": [
    {
     "data": {
      "text/html": [
       "<div>\n",
       "<style scoped>\n",
       "    .dataframe tbody tr th:only-of-type {\n",
       "        vertical-align: middle;\n",
       "    }\n",
       "\n",
       "    .dataframe tbody tr th {\n",
       "        vertical-align: top;\n",
       "    }\n",
       "\n",
       "    .dataframe thead th {\n",
       "        text-align: right;\n",
       "    }\n",
       "</style>\n",
       "<table border=\"1\" class=\"dataframe\">\n",
       "  <thead>\n",
       "    <tr style=\"text-align: right;\">\n",
       "      <th></th>\n",
       "      <th>address</th>\n",
       "      <th>z_address</th>\n",
       "      <th>bathrooms</th>\n",
       "      <th>bedrooms</th>\n",
       "      <th>finishedsqft</th>\n",
       "      <th>lastsolddate</th>\n",
       "      <th>lastsoldprice</th>\n",
       "      <th>latitude</th>\n",
       "      <th>longitude</th>\n",
       "      <th>neighborhood</th>\n",
       "      <th>totalrooms</th>\n",
       "      <th>usecode</th>\n",
       "      <th>yearbuilt</th>\n",
       "      <th>zestimate</th>\n",
       "      <th>zipcode</th>\n",
       "    </tr>\n",
       "  </thead>\n",
       "  <tbody>\n",
       "    <tr>\n",
       "      <th>8300</th>\n",
       "      <td>Address: 5264 3rd Street #304</td>\n",
       "      <td>5264 3rd St APT 304</td>\n",
       "      <td>2.0</td>\n",
       "      <td>2.0</td>\n",
       "      <td>805.0</td>\n",
       "      <td>07/18/2013</td>\n",
       "      <td>325000.0</td>\n",
       "      <td>37.729825</td>\n",
       "      <td>-122.392825</td>\n",
       "      <td>Bayview</td>\n",
       "      <td>94.0</td>\n",
       "      <td>Condominium</td>\n",
       "      <td>1993.0</td>\n",
       "      <td>502285.0</td>\n",
       "      <td>94124.0</td>\n",
       "    </tr>\n",
       "    <tr>\n",
       "      <th>8967</th>\n",
       "      <td>Address: 2829 California Street #3C</td>\n",
       "      <td>2829 California St APT 3C</td>\n",
       "      <td>2.0</td>\n",
       "      <td>2.0</td>\n",
       "      <td>1264.0</td>\n",
       "      <td>03/14/2013</td>\n",
       "      <td>1375000.0</td>\n",
       "      <td>37.787654</td>\n",
       "      <td>-122.440902</td>\n",
       "      <td>Lower Pacific Heights</td>\n",
       "      <td>1264.0</td>\n",
       "      <td>Condominium</td>\n",
       "      <td>2012.0</td>\n",
       "      <td>1591608.0</td>\n",
       "      <td>94115.0</td>\n",
       "    </tr>\n",
       "  </tbody>\n",
       "</table>\n",
       "</div>"
      ],
      "text/plain": [
       "                                  address                  z_address  \\\n",
       "8300        Address: 5264 3rd Street #304        5264 3rd St APT 304   \n",
       "8967  Address: 2829 California Street #3C  2829 California St APT 3C   \n",
       "\n",
       "      bathrooms  bedrooms  finishedsqft lastsolddate  lastsoldprice  \\\n",
       "8300        2.0       2.0         805.0   07/18/2013       325000.0   \n",
       "8967        2.0       2.0        1264.0   03/14/2013      1375000.0   \n",
       "\n",
       "       latitude   longitude           neighborhood  totalrooms      usecode  \\\n",
       "8300  37.729825 -122.392825                Bayview        94.0  Condominium   \n",
       "8967  37.787654 -122.440902  Lower Pacific Heights      1264.0  Condominium   \n",
       "\n",
       "      yearbuilt  zestimate  zipcode  \n",
       "8300     1993.0   502285.0  94124.0  \n",
       "8967     2012.0  1591608.0  94115.0  "
      ]
     },
     "execution_count": 37,
     "metadata": {},
     "output_type": "execute_result"
    }
   ],
   "source": [
    "data[data['totalrooms'] > 75]"
   ]
  },
  {
   "cell_type": "code",
   "execution_count": 38,
   "metadata": {
    "id": "k689s1__hjA7"
   },
   "outputs": [],
   "source": [
    "data = data[(data['totalrooms'] < 75) | (data['totalrooms'].isna()) ]"
   ]
  },
  {
   "cell_type": "markdown",
   "metadata": {
    "id": "XU2GyPuEhjA7"
   },
   "source": [
    "Теперь заполним пропущенные значения с помощью метода линейной регрессии."
   ]
  },
  {
   "cell_type": "code",
   "execution_count": 39,
   "metadata": {
    "id": "XfXf3-YqhjA7",
    "outputId": "4b5fc2c6-f604-483e-a85e-efc291f6b166"
   },
   "outputs": [
    {
     "data": {
      "text/html": [
       "<div>\n",
       "<style scoped>\n",
       "    .dataframe tbody tr th:only-of-type {\n",
       "        vertical-align: middle;\n",
       "    }\n",
       "\n",
       "    .dataframe tbody tr th {\n",
       "        vertical-align: top;\n",
       "    }\n",
       "\n",
       "    .dataframe thead th {\n",
       "        text-align: right;\n",
       "    }\n",
       "</style>\n",
       "<table border=\"1\" class=\"dataframe\">\n",
       "  <thead>\n",
       "    <tr style=\"text-align: right;\">\n",
       "      <th></th>\n",
       "      <th>address</th>\n",
       "      <th>z_address</th>\n",
       "      <th>bathrooms</th>\n",
       "      <th>bedrooms</th>\n",
       "      <th>finishedsqft</th>\n",
       "      <th>lastsolddate</th>\n",
       "      <th>lastsoldprice</th>\n",
       "      <th>latitude</th>\n",
       "      <th>longitude</th>\n",
       "      <th>neighborhood</th>\n",
       "      <th>totalrooms</th>\n",
       "      <th>usecode</th>\n",
       "      <th>yearbuilt</th>\n",
       "      <th>zestimate</th>\n",
       "      <th>zipcode</th>\n",
       "    </tr>\n",
       "  </thead>\n",
       "  <tbody>\n",
       "    <tr>\n",
       "      <th>0</th>\n",
       "      <td>Address: 1160 Mission Street #2007</td>\n",
       "      <td>1160 Mission St UNIT 2007</td>\n",
       "      <td>2.0</td>\n",
       "      <td>2.0</td>\n",
       "      <td>1043.0</td>\n",
       "      <td>02/17/2016</td>\n",
       "      <td>1300000.0</td>\n",
       "      <td>37.778705</td>\n",
       "      <td>-122.412635</td>\n",
       "      <td>South of Market</td>\n",
       "      <td>4.0</td>\n",
       "      <td>Condominium</td>\n",
       "      <td>2007.0</td>\n",
       "      <td>1167508.0</td>\n",
       "      <td>94103.0</td>\n",
       "    </tr>\n",
       "    <tr>\n",
       "      <th>1</th>\n",
       "      <td>Address: 260 King Street #475</td>\n",
       "      <td>260 King St UNIT 475</td>\n",
       "      <td>1.0</td>\n",
       "      <td>1.0</td>\n",
       "      <td>903.0</td>\n",
       "      <td>02/17/2016</td>\n",
       "      <td>750000.0</td>\n",
       "      <td>37.777641</td>\n",
       "      <td>-122.393417</td>\n",
       "      <td>South of Market</td>\n",
       "      <td>3.0</td>\n",
       "      <td>Condominium</td>\n",
       "      <td>2004.0</td>\n",
       "      <td>823719.0</td>\n",
       "      <td>94107.0</td>\n",
       "    </tr>\n",
       "    <tr>\n",
       "      <th>2</th>\n",
       "      <td>Address: 560 Missouri Street #B</td>\n",
       "      <td>560 Missouri St # B</td>\n",
       "      <td>4.0</td>\n",
       "      <td>3.0</td>\n",
       "      <td>1425.0</td>\n",
       "      <td>02/17/2016</td>\n",
       "      <td>1495000.0</td>\n",
       "      <td>37.759198</td>\n",
       "      <td>-122.396516</td>\n",
       "      <td>Potrero Hill</td>\n",
       "      <td>6.0</td>\n",
       "      <td>Condominium</td>\n",
       "      <td>2003.0</td>\n",
       "      <td>1708594.0</td>\n",
       "      <td>94107.0</td>\n",
       "    </tr>\n",
       "  </tbody>\n",
       "</table>\n",
       "</div>"
      ],
      "text/plain": [
       "                              address                  z_address  bathrooms  \\\n",
       "0  Address: 1160 Mission Street #2007  1160 Mission St UNIT 2007        2.0   \n",
       "1       Address: 260 King Street #475       260 King St UNIT 475        1.0   \n",
       "2     Address: 560 Missouri Street #B        560 Missouri St # B        4.0   \n",
       "\n",
       "   bedrooms  finishedsqft lastsolddate  lastsoldprice   latitude   longitude  \\\n",
       "0       2.0        1043.0   02/17/2016      1300000.0  37.778705 -122.412635   \n",
       "1       1.0         903.0   02/17/2016       750000.0  37.777641 -122.393417   \n",
       "2       3.0        1425.0   02/17/2016      1495000.0  37.759198 -122.396516   \n",
       "\n",
       "      neighborhood  totalrooms      usecode  yearbuilt  zestimate  zipcode  \n",
       "0  South of Market         4.0  Condominium     2007.0  1167508.0  94103.0  \n",
       "1  South of Market         3.0  Condominium     2004.0   823719.0  94107.0  \n",
       "2     Potrero Hill         6.0  Condominium     2003.0  1708594.0  94107.0  "
      ]
     },
     "execution_count": 39,
     "metadata": {},
     "output_type": "execute_result"
    }
   ],
   "source": [
    "get_value(data, 'totalrooms', mode='linreg', columns_for_reg=['bathrooms', 'bedrooms', 'lastsoldprice', 'latitude', 'longitude', 'yearbuilt', 'finishedsqft'])"
   ]
  },
  {
   "cell_type": "markdown",
   "metadata": {
    "id": "Jzoydi5HhjA7"
   },
   "source": [
    "Осталось заполнить usecode. Имеем 40 пропусков."
   ]
  },
  {
   "cell_type": "code",
   "execution_count": 44,
   "metadata": {
    "id": "9SHR0MTvhjA7",
    "outputId": "db28f7b0-a42d-43bb-e988-8ab9b1d47404"
   },
   "outputs": [
    {
     "data": {
      "text/plain": [
       "SingleFamily        5785\n",
       "Condominium         4779\n",
       "MultiFamily2To4      484\n",
       "Duplex               146\n",
       "Townhouse             66\n",
       "NaN                   40\n",
       "Miscellaneous         17\n",
       "Cooperative            3\n",
       "Apartment              3\n",
       "MultiFamily5Plus       2\n",
       "Mobile                 2\n",
       "Name: usecode, dtype: int64"
      ]
     },
     "execution_count": 44,
     "metadata": {},
     "output_type": "execute_result"
    }
   ],
   "source": [
    "data['usecode'].value_counts(dropna=False)"
   ]
  },
  {
   "cell_type": "markdown",
   "metadata": {
    "id": "E6KPz6hZhjA8"
   },
   "source": [
    "Разметим наши данные колонки 'usecode' с помощью LabelEncoder, а затем обучим логистическую регрессию на них и получим предсказанные значения."
   ]
  },
  {
   "cell_type": "code",
   "execution_count": 45,
   "metadata": {
    "id": "A0Pkd6kmhjA8"
   },
   "outputs": [],
   "source": [
    "from sklearn.linear_model import LogisticRegression\n",
    "from sklearn.preprocessing import LabelEncoder"
   ]
  },
  {
   "cell_type": "code",
   "execution_count": 46,
   "metadata": {
    "id": "jgHWmji5hjA8",
    "outputId": "cea84aef-244a-4074-8cbc-dc15c1bed83c"
   },
   "outputs": [
    {
     "data": {
      "text/html": [
       "<div>\n",
       "<style scoped>\n",
       "    .dataframe tbody tr th:only-of-type {\n",
       "        vertical-align: middle;\n",
       "    }\n",
       "\n",
       "    .dataframe tbody tr th {\n",
       "        vertical-align: top;\n",
       "    }\n",
       "\n",
       "    .dataframe thead th {\n",
       "        text-align: right;\n",
       "    }\n",
       "</style>\n",
       "<table border=\"1\" class=\"dataframe\">\n",
       "  <thead>\n",
       "    <tr style=\"text-align: right;\">\n",
       "      <th></th>\n",
       "      <th>address</th>\n",
       "      <th>z_address</th>\n",
       "      <th>bathrooms</th>\n",
       "      <th>bedrooms</th>\n",
       "      <th>finishedsqft</th>\n",
       "      <th>lastsolddate</th>\n",
       "      <th>lastsoldprice</th>\n",
       "      <th>latitude</th>\n",
       "      <th>longitude</th>\n",
       "      <th>neighborhood</th>\n",
       "      <th>totalrooms</th>\n",
       "      <th>usecode</th>\n",
       "      <th>yearbuilt</th>\n",
       "      <th>zestimate</th>\n",
       "      <th>zipcode</th>\n",
       "    </tr>\n",
       "  </thead>\n",
       "  <tbody>\n",
       "    <tr>\n",
       "      <th>0</th>\n",
       "      <td>Address: 1160 Mission Street #2007</td>\n",
       "      <td>1160 Mission St UNIT 2007</td>\n",
       "      <td>2.0</td>\n",
       "      <td>2.0</td>\n",
       "      <td>1043.0</td>\n",
       "      <td>02/17/2016</td>\n",
       "      <td>1300000.0</td>\n",
       "      <td>37.778705</td>\n",
       "      <td>-122.412635</td>\n",
       "      <td>South of Market</td>\n",
       "      <td>4.0</td>\n",
       "      <td>Condominium</td>\n",
       "      <td>2007.0</td>\n",
       "      <td>1167508.0</td>\n",
       "      <td>94103.0</td>\n",
       "    </tr>\n",
       "    <tr>\n",
       "      <th>1</th>\n",
       "      <td>Address: 260 King Street #475</td>\n",
       "      <td>260 King St UNIT 475</td>\n",
       "      <td>1.0</td>\n",
       "      <td>1.0</td>\n",
       "      <td>903.0</td>\n",
       "      <td>02/17/2016</td>\n",
       "      <td>750000.0</td>\n",
       "      <td>37.777641</td>\n",
       "      <td>-122.393417</td>\n",
       "      <td>South of Market</td>\n",
       "      <td>3.0</td>\n",
       "      <td>Condominium</td>\n",
       "      <td>2004.0</td>\n",
       "      <td>823719.0</td>\n",
       "      <td>94107.0</td>\n",
       "    </tr>\n",
       "    <tr>\n",
       "      <th>2</th>\n",
       "      <td>Address: 560 Missouri Street #B</td>\n",
       "      <td>560 Missouri St # B</td>\n",
       "      <td>4.0</td>\n",
       "      <td>3.0</td>\n",
       "      <td>1425.0</td>\n",
       "      <td>02/17/2016</td>\n",
       "      <td>1495000.0</td>\n",
       "      <td>37.759198</td>\n",
       "      <td>-122.396516</td>\n",
       "      <td>Potrero Hill</td>\n",
       "      <td>6.0</td>\n",
       "      <td>Condominium</td>\n",
       "      <td>2003.0</td>\n",
       "      <td>1708594.0</td>\n",
       "      <td>94107.0</td>\n",
       "    </tr>\n",
       "  </tbody>\n",
       "</table>\n",
       "</div>"
      ],
      "text/plain": [
       "                              address                  z_address  bathrooms  \\\n",
       "0  Address: 1160 Mission Street #2007  1160 Mission St UNIT 2007        2.0   \n",
       "1       Address: 260 King Street #475       260 King St UNIT 475        1.0   \n",
       "2     Address: 560 Missouri Street #B        560 Missouri St # B        4.0   \n",
       "\n",
       "   bedrooms  finishedsqft lastsolddate  lastsoldprice   latitude   longitude  \\\n",
       "0       2.0        1043.0   02/17/2016      1300000.0  37.778705 -122.412635   \n",
       "1       1.0         903.0   02/17/2016       750000.0  37.777641 -122.393417   \n",
       "2       3.0        1425.0   02/17/2016      1495000.0  37.759198 -122.396516   \n",
       "\n",
       "      neighborhood  totalrooms      usecode  yearbuilt  zestimate  zipcode  \n",
       "0  South of Market         4.0  Condominium     2007.0  1167508.0  94103.0  \n",
       "1  South of Market         3.0  Condominium     2004.0   823719.0  94107.0  \n",
       "2     Potrero Hill         6.0  Condominium     2003.0  1708594.0  94107.0  "
      ]
     },
     "execution_count": 46,
     "metadata": {},
     "output_type": "execute_result"
    }
   ],
   "source": [
    "X_tmp=data.dropna()\n",
    "X_tmp.head(3)"
   ]
  },
  {
   "cell_type": "code",
   "execution_count": 47,
   "metadata": {
    "id": "1GFMUJKxhjA8"
   },
   "outputs": [
    {
     "data": {
      "text/plain": [
       "0        1\n",
       "1        1\n",
       "2        1\n",
       "3        8\n",
       "4        8\n",
       "        ..\n",
       "11325    8\n",
       "11326    6\n",
       "11327    8\n",
       "11328    8\n",
       "11329    8\n",
       "Name: tr, Length: 11287, dtype: int64"
      ]
     },
     "execution_count": 47,
     "metadata": {},
     "output_type": "execute_result"
    }
   ],
   "source": [
    "le = LabelEncoder()\n",
    "X_tmp['tr'] = le.fit_transform(X_tmp['usecode'])\n",
    "X_tmp['tr']"
   ]
  },
  {
   "cell_type": "markdown",
   "metadata": {
    "id": "IBnUNmryhjA8"
   },
   "source": [
    "Обучаем логистическую регрессию."
   ]
  },
  {
   "cell_type": "code",
   "execution_count": 48,
   "metadata": {
    "id": "7WS8UmqRhjA9",
    "outputId": "9166d076-a9ad-4eb8-e852-7fe32fee9969"
   },
   "outputs": [
    {
     "data": {
      "text/plain": [
       "LogisticRegression()"
      ]
     },
     "execution_count": 48,
     "metadata": {},
     "output_type": "execute_result"
    }
   ],
   "source": [
    "logreg = LogisticRegression()\n",
    "cols = ['bathrooms', 'bedrooms', 'finishedsqft', \n",
    "        'lastsoldprice', 'latitude', 'longitude', 'totalrooms', 'yearbuilt']\n",
    "logreg.fit(X_tmp[cols], X_tmp['tr'])"
   ]
  },
  {
   "cell_type": "markdown",
   "metadata": {
    "id": "xW2zpbQ1hjA9"
   },
   "source": [
    "Делаем обратное преобразование LabelEncoder и получаем предсказанные данные."
   ]
  },
  {
   "cell_type": "code",
   "execution_count": 52,
   "metadata": {
    "id": "0oA3C5alhjA9",
    "outputId": "f729b377-e525-43e7-d84c-d5b3ad1a41ff"
   },
   "outputs": [
    {
     "data": {
      "text/plain": [
       "array(['SingleFamily', 'SingleFamily', 'Condominium', 'Condominium',\n",
       "       'Condominium', 'SingleFamily', 'SingleFamily', 'Condominium',\n",
       "       'SingleFamily', 'SingleFamily', 'SingleFamily', 'SingleFamily',\n",
       "       'SingleFamily', 'Condominium', 'Condominium', 'Condominium',\n",
       "       'SingleFamily', 'SingleFamily', 'SingleFamily', 'SingleFamily',\n",
       "       'SingleFamily', 'Condominium', 'SingleFamily', 'SingleFamily',\n",
       "       'Condominium', 'SingleFamily', 'SingleFamily', 'SingleFamily',\n",
       "       'Condominium', 'Condominium', 'SingleFamily', 'SingleFamily',\n",
       "       'Condominium', 'Condominium', 'Condominium', 'Condominium',\n",
       "       'SingleFamily', 'SingleFamily', 'SingleFamily', 'SingleFamily'],\n",
       "      dtype=object)"
      ]
     },
     "execution_count": 52,
     "metadata": {},
     "output_type": "execute_result"
    }
   ],
   "source": [
    "le.inverse_transform(logreg.predict(data[data['usecode'].isna()][cols]))"
   ]
  },
  {
   "cell_type": "markdown",
   "metadata": {
    "id": "m5gZhkRuhjA9"
   },
   "source": [
    "Заполняем ими пропуски."
   ]
  },
  {
   "cell_type": "code",
   "execution_count": 53,
   "metadata": {
    "id": "tRMTS-WhhjA9"
   },
   "outputs": [],
   "source": [
    "data.loc[data[data['usecode'].isna()].index, 'usecode'] = le.inverse_transform(logreg.predict(data[data['usecode'].isna()][cols]))"
   ]
  },
  {
   "cell_type": "markdown",
   "metadata": {
    "id": "eY1dKi3DhjA9"
   },
   "source": [
    "В итоге, все пропуски во всех признаках заполнены, задача выполнена."
   ]
  },
  {
   "cell_type": "code",
   "execution_count": 54,
   "metadata": {
    "id": "M_XJQoMOhjA9",
    "outputId": "0fa98e08-905f-4062-8458-0b6491ab8b1e"
   },
   "outputs": [
    {
     "name": "stdout",
     "output_type": "stream",
     "text": [
      "<class 'pandas.core.frame.DataFrame'>\n",
      "Int64Index: 11327 entries, 0 to 11329\n",
      "Data columns (total 15 columns):\n",
      " #   Column         Non-Null Count  Dtype  \n",
      "---  ------         --------------  -----  \n",
      " 0   address        11327 non-null  object \n",
      " 1   z_address      11327 non-null  object \n",
      " 2   bathrooms      11327 non-null  float64\n",
      " 3   bedrooms       11327 non-null  float64\n",
      " 4   finishedsqft   11327 non-null  float64\n",
      " 5   lastsolddate   11327 non-null  object \n",
      " 6   lastsoldprice  11327 non-null  float64\n",
      " 7   latitude       11327 non-null  float64\n",
      " 8   longitude      11327 non-null  float64\n",
      " 9   neighborhood   11327 non-null  object \n",
      " 10  totalrooms     11327 non-null  float64\n",
      " 11  usecode        11327 non-null  object \n",
      " 12  yearbuilt      11327 non-null  float64\n",
      " 13  zestimate      11327 non-null  float64\n",
      " 14  zipcode        11327 non-null  float64\n",
      "dtypes: float64(10), object(5)\n",
      "memory usage: 1.6+ MB\n"
     ]
    }
   ],
   "source": [
    "data.info()"
   ]
  },
  {
   "cell_type": "markdown",
   "metadata": {
    "id": "N_3zsrgmhjA9"
   },
   "source": [
    "Видим, что итоговый результат улучшился на 3%."
   ]
  },
  {
   "cell_type": "code",
   "execution_count": 55,
   "metadata": {
    "id": "gYA0-536hjA-",
    "outputId": "1ad4e298-abe7-43fb-f490-244d4f857455"
   },
   "outputs": [
    {
     "data": {
      "text/plain": [
       "0.8522566971460339"
      ]
     },
     "execution_count": 55,
     "metadata": {},
     "output_type": "execute_result"
    }
   ],
   "source": [
    "cols = ['bathrooms', 'bedrooms', 'finishedsqft', \n",
    "        'lastsoldprice', 'latitude', 'longitude', 'totalrooms', 'yearbuilt']\n",
    "target = ['zestimate']\n",
    "get_score(data.dropna()[cols], data.dropna()[target])"
   ]
  },
  {
   "cell_type": "markdown",
   "metadata": {
    "id": "kAc9bvMGhjA-"
   },
   "source": [
    "<h2>Summary</h2>\n",
    "<ol><li>Первичный <b>визуальный анализ</b> данных очень <b>важен</b> для выявления <b>выбросов/шума</b>, корреляций между признаками, что может значительно <b>ухудшить</b> эффективность модели.</li><li><b>Не стоит</b> сразу <b>удалять</b> столбец или строку, если в ней п<b>ропущенное значение</b>, это может повлечь потерю информации. В зависимости от ситуации, пропуск можно <b>заменить</b> медианой, средним, модой или индикатором.</li></ol>"
   ]
  },
  {
   "cell_type": "markdown",
   "metadata": {
    "id": "YykUNxvJhjA-"
   },
   "source": [
    "<h3>Вопросы для самопроверки</h3>\n",
    "<p><ol><li>Какие методы замены пропусков вы знаете? Для чего нужно это делать?</li><li>Что стоит делать при первичном анализе данных? На что смотреть?</li></ol></p>"
   ]
  },
  {
   "cell_type": "markdown",
   "metadata": {
    "id": "8gxM0gUxhjA-"
   },
   "source": [
    "<h1>Спасибо за внимание!</h1>"
   ]
  },
  {
   "cell_type": "code",
   "execution_count": null,
   "metadata": {
    "id": "EYxq02_QhjA-"
   },
   "outputs": [],
   "source": []
  },
  {
   "cell_type": "code",
   "execution_count": null,
   "metadata": {},
   "outputs": [],
   "source": []
  }
 ],
 "metadata": {
  "colab": {
   "name": "handling_missing_data.ipynb",
   "provenance": []
  },
  "kernelspec": {
   "display_name": "Python 3",
   "language": "python",
   "name": "python3"
  },
  "language_info": {
   "codemirror_mode": {
    "name": "ipython",
    "version": 3
   },
   "file_extension": ".py",
   "mimetype": "text/x-python",
   "name": "python",
   "nbconvert_exporter": "python",
   "pygments_lexer": "ipython3",
   "version": "3.8.10"
  }
 },
 "nbformat": 4,
 "nbformat_minor": 1
}
