{
 "cells": [
  {
   "cell_type": "code",
   "execution_count": 1,
   "metadata": {
    "id": "VPn3yt6MSHFq"
   },
   "outputs": [],
   "source": [
    "import numpy as np\n",
    "import pandas as pd"
   ]
  },
  {
   "cell_type": "code",
   "execution_count": 2,
   "metadata": {
    "id": "UCcbJlrRTM62"
   },
   "outputs": [],
   "source": [
    "from sklearn.cluster import KMeans\n",
    "from sklearn.preprocessing import StandardScaler\n",
    "from tqdm.notebook import trange, tqdm"
   ]
  },
  {
   "cell_type": "code",
   "execution_count": 3,
   "metadata": {
    "id": "F4SSd4BhvIpB"
   },
   "outputs": [],
   "source": [
    "from sklearn.datasets import load_diabetes"
   ]
  },
  {
   "cell_type": "code",
   "execution_count": 4,
   "metadata": {
    "colab": {
     "base_uri": "https://localhost:8080/"
    },
    "id": "I4CcPD5tvp9q",
    "outputId": "a33a3ff3-fe7c-4f16-ed2b-3409a8cb9aa8"
   },
   "outputs": [
    {
     "data": {
      "text/plain": [
       "dict_keys(['data', 'target', 'frame', 'DESCR', 'feature_names', 'data_filename', 'target_filename'])"
      ]
     },
     "execution_count": 4,
     "metadata": {},
     "output_type": "execute_result"
    }
   ],
   "source": [
    "load_diabetes().keys()"
   ]
  },
  {
   "cell_type": "code",
   "execution_count": 5,
   "metadata": {
    "colab": {
     "base_uri": "https://localhost:8080/",
     "height": 204
    },
    "id": "O-Y74RW-vVnV",
    "outputId": "72ba02b2-5e40-4b4b-85a8-c2abd386419f"
   },
   "outputs": [
    {
     "data": {
      "text/html": [
       "<div>\n",
       "<style scoped>\n",
       "    .dataframe tbody tr th:only-of-type {\n",
       "        vertical-align: middle;\n",
       "    }\n",
       "\n",
       "    .dataframe tbody tr th {\n",
       "        vertical-align: top;\n",
       "    }\n",
       "\n",
       "    .dataframe thead th {\n",
       "        text-align: right;\n",
       "    }\n",
       "</style>\n",
       "<table border=\"1\" class=\"dataframe\">\n",
       "  <thead>\n",
       "    <tr style=\"text-align: right;\">\n",
       "      <th></th>\n",
       "      <th>age</th>\n",
       "      <th>sex</th>\n",
       "      <th>bmi</th>\n",
       "      <th>bp</th>\n",
       "      <th>s1</th>\n",
       "      <th>s2</th>\n",
       "      <th>s3</th>\n",
       "      <th>s4</th>\n",
       "      <th>s5</th>\n",
       "      <th>s6</th>\n",
       "    </tr>\n",
       "  </thead>\n",
       "  <tbody>\n",
       "    <tr>\n",
       "      <th>0</th>\n",
       "      <td>0.038076</td>\n",
       "      <td>0.050680</td>\n",
       "      <td>0.061696</td>\n",
       "      <td>0.021872</td>\n",
       "      <td>-0.044223</td>\n",
       "      <td>-0.034821</td>\n",
       "      <td>-0.043401</td>\n",
       "      <td>-0.002592</td>\n",
       "      <td>0.019908</td>\n",
       "      <td>-0.017646</td>\n",
       "    </tr>\n",
       "    <tr>\n",
       "      <th>1</th>\n",
       "      <td>-0.001882</td>\n",
       "      <td>-0.044642</td>\n",
       "      <td>-0.051474</td>\n",
       "      <td>-0.026328</td>\n",
       "      <td>-0.008449</td>\n",
       "      <td>-0.019163</td>\n",
       "      <td>0.074412</td>\n",
       "      <td>-0.039493</td>\n",
       "      <td>-0.068330</td>\n",
       "      <td>-0.092204</td>\n",
       "    </tr>\n",
       "    <tr>\n",
       "      <th>2</th>\n",
       "      <td>0.085299</td>\n",
       "      <td>0.050680</td>\n",
       "      <td>0.044451</td>\n",
       "      <td>-0.005671</td>\n",
       "      <td>-0.045599</td>\n",
       "      <td>-0.034194</td>\n",
       "      <td>-0.032356</td>\n",
       "      <td>-0.002592</td>\n",
       "      <td>0.002864</td>\n",
       "      <td>-0.025930</td>\n",
       "    </tr>\n",
       "    <tr>\n",
       "      <th>3</th>\n",
       "      <td>-0.089063</td>\n",
       "      <td>-0.044642</td>\n",
       "      <td>-0.011595</td>\n",
       "      <td>-0.036656</td>\n",
       "      <td>0.012191</td>\n",
       "      <td>0.024991</td>\n",
       "      <td>-0.036038</td>\n",
       "      <td>0.034309</td>\n",
       "      <td>0.022692</td>\n",
       "      <td>-0.009362</td>\n",
       "    </tr>\n",
       "    <tr>\n",
       "      <th>4</th>\n",
       "      <td>0.005383</td>\n",
       "      <td>-0.044642</td>\n",
       "      <td>-0.036385</td>\n",
       "      <td>0.021872</td>\n",
       "      <td>0.003935</td>\n",
       "      <td>0.015596</td>\n",
       "      <td>0.008142</td>\n",
       "      <td>-0.002592</td>\n",
       "      <td>-0.031991</td>\n",
       "      <td>-0.046641</td>\n",
       "    </tr>\n",
       "  </tbody>\n",
       "</table>\n",
       "</div>"
      ],
      "text/plain": [
       "        age       sex       bmi        bp        s1        s2        s3  \\\n",
       "0  0.038076  0.050680  0.061696  0.021872 -0.044223 -0.034821 -0.043401   \n",
       "1 -0.001882 -0.044642 -0.051474 -0.026328 -0.008449 -0.019163  0.074412   \n",
       "2  0.085299  0.050680  0.044451 -0.005671 -0.045599 -0.034194 -0.032356   \n",
       "3 -0.089063 -0.044642 -0.011595 -0.036656  0.012191  0.024991 -0.036038   \n",
       "4  0.005383 -0.044642 -0.036385  0.021872  0.003935  0.015596  0.008142   \n",
       "\n",
       "         s4        s5        s6  \n",
       "0 -0.002592  0.019908 -0.017646  \n",
       "1 -0.039493 -0.068330 -0.092204  \n",
       "2 -0.002592  0.002864 -0.025930  \n",
       "3  0.034309  0.022692 -0.009362  \n",
       "4 -0.002592 -0.031991 -0.046641  "
      ]
     },
     "execution_count": 5,
     "metadata": {},
     "output_type": "execute_result"
    }
   ],
   "source": [
    "data = load_diabetes()\n",
    "feature_names = data.feature_names\n",
    "df = pd.DataFrame(data.data, columns = feature_names)\n",
    "df.head()"
   ]
  },
  {
   "cell_type": "code",
   "execution_count": 6,
   "metadata": {
    "colab": {
     "base_uri": "https://localhost:8080/"
    },
    "id": "JmEllihPwk_k",
    "outputId": "f88a6ad2-c758-4c4e-ebce-4b76c67c4dc1"
   },
   "outputs": [
    {
     "name": "stdout",
     "output_type": "stream",
     "text": [
      "<class 'pandas.core.frame.DataFrame'>\n",
      "RangeIndex: 442 entries, 0 to 441\n",
      "Data columns (total 10 columns):\n",
      " #   Column  Non-Null Count  Dtype  \n",
      "---  ------  --------------  -----  \n",
      " 0   age     442 non-null    float64\n",
      " 1   sex     442 non-null    float64\n",
      " 2   bmi     442 non-null    float64\n",
      " 3   bp      442 non-null    float64\n",
      " 4   s1      442 non-null    float64\n",
      " 5   s2      442 non-null    float64\n",
      " 6   s3      442 non-null    float64\n",
      " 7   s4      442 non-null    float64\n",
      " 8   s5      442 non-null    float64\n",
      " 9   s6      442 non-null    float64\n",
      "dtypes: float64(10)\n",
      "memory usage: 34.7 KB\n"
     ]
    }
   ],
   "source": [
    "df.info()"
   ]
  },
  {
   "cell_type": "code",
   "execution_count": 7,
   "metadata": {
    "colab": {
     "base_uri": "https://localhost:8080/"
    },
    "id": "lvzbRyFLXwzY",
    "outputId": "aeeeca80-1f8a-4041-fd8a-a703fa313139"
   },
   "outputs": [
    {
     "name": "stdout",
     "output_type": "stream",
     "text": [
      "start:  0.010940947348541733 0.03595385780275364\n",
      "finish:  0.03207209461178269 0.01958992003549404\n"
     ]
    }
   ],
   "source": [
    "\n",
    "prop_null = 0.1\n",
    "pr = 'bmi'\n",
    "\n",
    "data = df.copy()\n",
    "data.loc[np.random.randint(0,df.shape[0],int(df.shape[0]*prop_null//1)),pr] = None\n",
    "ind = data[data[pr].isna()].index\n",
    "cols = list(data.select_dtypes([np.number]).columns) \n",
    "cols.remove(pr)\n",
    "delta_ = np.array(data.fillna(data[pr].mean()).loc[ind, pr] - df.loc[ind, pr])\n",
    "print('start: ',delta_.mean(),delta_.std())\n",
    "kmeans = KMeans(n_clusters=1).fit(data.loc[~data.index.isin(ind),cols])\n",
    "data['cl'] = kmeans.predict(data[cols])\n",
    "for i in ind:\n",
    "  data.at[i, pr] = data[data['cl'] == data.at[i,'cl']][pr].mean()\n",
    "delta = np.abs(np.array(data.loc[ind, pr] - df.loc[ind, pr]))\n",
    "print('finish: ',delta.mean(),delta.std())     "
   ]
  },
  {
   "cell_type": "code",
   "execution_count": 15,
   "metadata": {},
   "outputs": [
    {
     "data": {
      "text/plain": [
       "35     0.032035\n",
       "37    -0.009999\n",
       "56    -0.040178\n",
       "57     0.064370\n",
       "60     0.005090\n",
       "70     0.070837\n",
       "77     0.037424\n",
       "109    0.010479\n",
       "120   -0.003533\n",
       "129   -0.015388\n",
       "150   -0.069279\n",
       "162   -0.029400\n",
       "170    0.021257\n",
       "173    0.080537\n",
       "176   -0.018622\n",
       "190    0.013712\n",
       "197   -0.002455\n",
       "202   -0.000299\n",
       "211   -0.035867\n",
       "216   -0.034789\n",
       "219    0.042813\n",
       "222    0.026646\n",
       "226    0.047125\n",
       "234   -0.038023\n",
       "246    0.033113\n",
       "253   -0.032633\n",
       "254   -0.055268\n",
       "267    0.001857\n",
       "294    0.032035\n",
       "296    0.062214\n",
       "308    0.047125\n",
       "342   -0.020778\n",
       "348    0.021257\n",
       "356    0.034191\n",
       "379    0.039580\n",
       "384    0.030957\n",
       "392    0.030957\n",
       "399   -0.021855\n",
       "421   -0.015388\n",
       "426    0.035269\n",
       "430    0.057903\n",
       "435    0.024491\n",
       "Name: bmi, dtype: float64"
      ]
     },
     "execution_count": 15,
     "metadata": {},
     "output_type": "execute_result"
    }
   ],
   "source": [
    "data.fillna(data[pr].mean()).loc[ind, pr] - df.loc[ind, pr]"
   ]
  },
  {
   "cell_type": "code",
   "execution_count": null,
   "metadata": {},
   "outputs": [],
   "source": []
  },
  {
   "cell_type": "code",
   "execution_count": null,
   "metadata": {},
   "outputs": [],
   "source": []
  },
  {
   "cell_type": "code",
   "execution_count": 8,
   "metadata": {
    "colab": {
     "base_uri": "https://localhost:8080/"
    },
    "id": "FZkN83vHY9_U",
    "outputId": "18871e5d-c60f-407b-9f3b-ec352f02e104"
   },
   "outputs": [
    {
     "name": "stdout",
     "output_type": "stream",
     "text": [
      " 0.032 -> -0.032  \t-\n",
      " -0.010 -> 0.010  \t-\n",
      " -0.040 -> 0.040  \t-\n",
      " 0.064 -> -0.064  \t-\n",
      " 0.005 -> -0.005  \t+\n",
      " 0.071 -> -0.071  \t-\n",
      " 0.037 -> -0.037  \t-\n",
      " 0.010 -> -0.010  \t-\n",
      " -0.004 -> 0.004  \t-\n",
      " -0.015 -> 0.015  \t-\n",
      " -0.069 -> 0.069  \t-\n",
      " -0.029 -> 0.029  \t-\n",
      " 0.021 -> -0.021  \t-\n",
      " 0.081 -> -0.081  \t-\n",
      " -0.019 -> 0.019  \t-\n",
      " 0.014 -> -0.014  \t-\n",
      " -0.002 -> 0.002  \t+\n",
      " -0.000 -> 0.000  \t+\n",
      " -0.036 -> 0.036  \t-\n",
      " -0.035 -> 0.035  \t-\n",
      " 0.043 -> -0.043  \t-\n",
      " 0.027 -> -0.027  \t-\n",
      " 0.047 -> -0.047  \t-\n",
      " -0.038 -> 0.038  \t-\n",
      " 0.033 -> -0.033  \t-\n",
      " -0.033 -> 0.033  \t-\n",
      " -0.055 -> 0.055  \t-\n",
      " 0.002 -> -0.002  \t-\n",
      " 0.032 -> -0.032  \t-\n",
      " 0.062 -> -0.062  \t-\n",
      " 0.047 -> -0.047  \t-\n",
      " -0.021 -> 0.021  \t+\n",
      " 0.021 -> -0.021  \t-\n",
      " 0.034 -> -0.034  \t-\n",
      " 0.040 -> -0.040  \t-\n",
      " 0.031 -> -0.031  \t-\n",
      " 0.031 -> -0.031  \t-\n",
      " -0.022 -> 0.022  \t+\n",
      " -0.015 -> 0.015  \t-\n",
      " 0.035 -> -0.035  \t-\n",
      " 0.058 -> -0.058  \t-\n",
      " 0.024 -> -0.024  \t-\n"
     ]
    }
   ],
   "source": [
    "_=[print(f\" {x:4.3f} -> {y:4.3f}  \\t{'+' if np.abs(x) > np.abs(y) else '-'}\") for x,y in zip(delta_,(df - data).loc[ind,pr])]"
   ]
  },
  {
   "cell_type": "code",
   "execution_count": null,
   "metadata": {
    "id": "BK3d7rbG1CLW"
   },
   "outputs": [],
   "source": []
  }
 ],
 "metadata": {
  "colab": {
   "collapsed_sections": [],
   "name": "fillna_stat_strat.ipynb",
   "provenance": []
  },
  "kernelspec": {
   "display_name": "Python 3",
   "language": "python",
   "name": "python3"
  },
  "language_info": {
   "codemirror_mode": {
    "name": "ipython",
    "version": 3
   },
   "file_extension": ".py",
   "mimetype": "text/x-python",
   "name": "python",
   "nbconvert_exporter": "python",
   "pygments_lexer": "ipython3",
   "version": "3.8.10"
  }
 },
 "nbformat": 4,
 "nbformat_minor": 1
}
