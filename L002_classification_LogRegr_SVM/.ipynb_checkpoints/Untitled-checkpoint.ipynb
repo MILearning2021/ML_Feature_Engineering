{
 "cells": [
  {
   "cell_type": "code",
   "execution_count": 16,
   "id": "0f380b8c",
   "metadata": {},
   "outputs": [],
   "source": [
    "import pandas as pd\n",
    "import numpy as np\n",
    "import matplotlib.pyplot as plt\n",
    "\n",
    "from sklearn.model_selection import train_test_split\n",
    "\n",
    "from sklearn.linear_model import LogisticRegression, LogisticRegressionCV\n",
    "from sklearn.svm import SVC\n",
    "from sklearn.preprocessing import StandardScaler"
   ]
  },
  {
   "cell_type": "code",
   "execution_count": 17,
   "id": "8f6f98b0",
   "metadata": {},
   "outputs": [],
   "source": [
    "#читаем данные\n",
    "df = pd.read_csv('adult.csv')"
   ]
  },
  {
   "cell_type": "code",
   "execution_count": 18,
   "id": "7b614af5",
   "metadata": {},
   "outputs": [],
   "source": [
    "#смотрим информацию датасета\n",
    "#df.info()\n",
    "#df.head()"
   ]
  },
  {
   "cell_type": "code",
   "execution_count": 19,
   "id": "db5ab573",
   "metadata": {},
   "outputs": [
    {
     "name": "stdout",
     "output_type": "stream",
     "text": [
      "['<=50K' '>50K'] \n",
      " [2 3 1 0 4] \n",
      " [1 0 4 2 3] \n",
      " [0 3 1 2 4] \n",
      " [2 0 3 4 1]\n"
     ]
    }
   ],
   "source": [
    "#удалим строки, где есть пустые значения\n",
    "df.dropna(inplace = True)\n",
    "#найдем категориальные переменные из переменных типа int64\n",
    "print(df['class'].unique(), '\\n', df['age'].unique(), '\\n', df['capitalgain'].unique(), '\\n', \\\n",
    "      df['capitalloss'].unique(), '\\n', df['hoursperweek'].unique())\n",
    "#предполагаю, что это все именно категории"
   ]
  },
  {
   "cell_type": "code",
   "execution_count": 6,
   "id": "cdec3b62",
   "metadata": {},
   "outputs": [],
   "source": [
    "#получим массив целевой переменной, закодируем классы\n",
    "Y = [0 if x == '<=50K' else 1 for x in df['class']]"
   ]
  },
  {
   "cell_type": "code",
   "execution_count": 7,
   "id": "bb4bffe1",
   "metadata": {},
   "outputs": [],
   "source": [
    "#закодируем категориальные переменные, уберем проблему мультиколинеарности (?)\n",
    "df['age'] = df['age'].astype('category')\n",
    "df['capitalgain'] = df['capitalgain'].astype('category')\n",
    "df['capitalloss'] = df['capitalloss'].astype('category')\n",
    "df['hoursperweek'] = df['hoursperweek'].astype('category')\n",
    "\n",
    "X_dumm = pd.get_dummies(df.drop(['class'], axis = 1), drop_first = True)\n",
    "\n",
    "#стандартизируем переменные\n",
    "X_dumm_scalled = StandardScaler().fit_transform(X_dumm)"
   ]
  },
  {
   "cell_type": "code",
   "execution_count": 8,
   "id": "42a6f60d",
   "metadata": {},
   "outputs": [],
   "source": [
    "#получим тренировочный и тестовый сэмплы\n",
    "X_train, X_test, Y_train, Y_test = train_test_split(X_dumm_scalled, Y, test_size = 0.3, \\\n",
    "                                                    random_state = 1, stratify = Y)"
   ]
  },
  {
   "cell_type": "code",
   "execution_count": 9,
   "id": "04954a20",
   "metadata": {},
   "outputs": [],
   "source": [
    "#------------- Logistic Regression -------------------------"
   ]
  },
  {
   "cell_type": "code",
   "execution_count": 10,
   "id": "b08b2f44",
   "metadata": {},
   "outputs": [
    {
     "data": {
      "text/plain": [
       "(0.8526615068709524,\n",
       " array([[0.95048217, 0.04951783],\n",
       "        [0.6790194 , 0.3209806 ],\n",
       "        [0.63642399, 0.36357601],\n",
       "        ...,\n",
       "        [0.97354797, 0.02645203],\n",
       "        [0.12135552, 0.87864448],\n",
       "        [0.86125818, 0.13874182]]))"
      ]
     },
     "execution_count": 10,
     "metadata": {},
     "output_type": "execute_result"
    }
   ],
   "source": [
    "lrc = LogisticRegression(random_state = 42).fit(X_train, Y_train)\n",
    "lrc.score(X_train, Y_train), lrc.predict_proba(X_train)"
   ]
  },
  {
   "cell_type": "code",
   "execution_count": 11,
   "id": "785f1402",
   "metadata": {},
   "outputs": [
    {
     "data": {
      "text/plain": [
       "(0.8552369720645684,\n",
       " array([[8.86201620e-01, 1.13798380e-01],\n",
       "        [9.93265003e-01, 6.73499743e-03],\n",
       "        [5.97142720e-01, 4.02857280e-01],\n",
       "        ...,\n",
       "        [3.16926286e-04, 9.99683074e-01],\n",
       "        [5.18297851e-01, 4.81702149e-01],\n",
       "        [9.73605370e-01, 2.63946299e-02]]))"
      ]
     },
     "execution_count": 11,
     "metadata": {},
     "output_type": "execute_result"
    }
   ],
   "source": [
    "lrc.score(X_test, Y_test), lrc.predict_proba(X_test)"
   ]
  },
  {
   "cell_type": "code",
   "execution_count": 12,
   "id": "d3f715db",
   "metadata": {},
   "outputs": [],
   "source": [
    "#------------- SVM -------------------------"
   ]
  },
  {
   "cell_type": "code",
   "execution_count": 13,
   "id": "1e483b09",
   "metadata": {},
   "outputs": [
    {
     "name": "stdout",
     "output_type": "stream",
     "text": [
      "CPU times: user 1min 50s, sys: 1.81 s, total: 1min 51s\n",
      "Wall time: 1min 55s\n"
     ]
    }
   ],
   "source": [
    "%%time\n",
    "svc = SVC(random_state = 42, gamma = 'auto').fit(X_train, Y_train)"
   ]
  },
  {
   "cell_type": "code",
   "execution_count": 14,
   "id": "fe8a9af3",
   "metadata": {},
   "outputs": [
    {
     "name": "stdout",
     "output_type": "stream",
     "text": [
      "CPU times: user 2min 26s, sys: 1.7 s, total: 2min 27s\n",
      "Wall time: 2min 32s\n"
     ]
    },
    {
     "data": {
      "text/plain": [
       "0.8624229979466119"
      ]
     },
     "execution_count": 14,
     "metadata": {},
     "output_type": "execute_result"
    }
   ],
   "source": [
    "%%time\n",
    "svc.score(X_train, Y_train)"
   ]
  },
  {
   "cell_type": "code",
   "execution_count": 15,
   "id": "abac7287",
   "metadata": {},
   "outputs": [
    {
     "name": "stdout",
     "output_type": "stream",
     "text": [
      "CPU times: user 1min 4s, sys: 817 ms, total: 1min 4s\n",
      "Wall time: 1min 7s\n"
     ]
    },
    {
     "data": {
      "text/plain": [
       "0.8511093093535785"
      ]
     },
     "execution_count": 15,
     "metadata": {},
     "output_type": "execute_result"
    }
   ],
   "source": [
    "%%time\n",
    "svc.score(X_test, Y_test)"
   ]
  },
  {
   "cell_type": "code",
   "execution_count": null,
   "id": "fba28d2d",
   "metadata": {},
   "outputs": [],
   "source": [
    "#--------------- Вывод -----------------------\n",
    "# Logistic Regression и SVM в лайт версии (без подбора гиперпараметров) показали одинаковый результат"
   ]
  },
  {
   "cell_type": "code",
   "execution_count": null,
   "id": "7614c300",
   "metadata": {},
   "outputs": [],
   "source": []
  }
 ],
 "metadata": {
  "kernelspec": {
   "display_name": "Python 3",
   "language": "python",
   "name": "python3"
  },
  "language_info": {
   "codemirror_mode": {
    "name": "ipython",
    "version": 3
   },
   "file_extension": ".py",
   "mimetype": "text/x-python",
   "name": "python",
   "nbconvert_exporter": "python",
   "pygments_lexer": "ipython3",
   "version": "3.8.10"
  }
 },
 "nbformat": 4,
 "nbformat_minor": 5
}
