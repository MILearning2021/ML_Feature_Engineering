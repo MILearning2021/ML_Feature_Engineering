{
 "cells": [
  {
   "cell_type": "code",
   "execution_count": 1,
   "id": "8622789e",
   "metadata": {},
   "outputs": [],
   "source": [
    "import pandas as pd\n",
    "import numpy as np\n",
    "import matplotlib.pyplot as plt\n",
    "\n",
    "from sklearn.model_selection import train_test_split\n",
    "\n",
    "from sklearn.linear_model import LogisticRegression, LogisticRegressionCV\n",
    "from sklearn.svm import SVC\n",
    "from sklearn.preprocessing import StandardScaler, MinMaxScaler\n",
    "\n",
    "from sklearn.model_selection import GridSearchCV"
   ]
  },
  {
   "cell_type": "code",
   "execution_count": 2,
   "id": "07685e33",
   "metadata": {},
   "outputs": [],
   "source": [
    "#читаем данные\n",
    "df = pd.read_csv('adult.csv')"
   ]
  },
  {
   "cell_type": "code",
   "execution_count": 3,
   "id": "ee095e5a",
   "metadata": {},
   "outputs": [],
   "source": [
    "#смотрим информацию датасета\n",
    "#df.info()\n",
    "#df.head()"
   ]
  },
  {
   "cell_type": "code",
   "execution_count": 4,
   "id": "682d46e8",
   "metadata": {},
   "outputs": [
    {
     "name": "stdout",
     "output_type": "stream",
     "text": [
      "['<=50K' '>50K'] \n",
      " [2 3 1 0 4] \n",
      " [1 0 4 2 3] \n",
      " [0 3 1 2 4] \n",
      " [2 0 3 4 1]\n"
     ]
    }
   ],
   "source": [
    "#удалим строки, где есть пустые значения\n",
    "df.dropna(inplace = True)\n",
    "#найдем категориальные переменные из переменных типа int64\n",
    "print(df['class'].unique(), '\\n', df['age'].unique(), '\\n', df['capitalgain'].unique(), '\\n', \\\n",
    "      df['capitalloss'].unique(), '\\n', df['hoursperweek'].unique())\n",
    "#предполагаю, что это все именно категории"
   ]
  },
  {
   "cell_type": "code",
   "execution_count": 5,
   "id": "cccbc1e5",
   "metadata": {},
   "outputs": [],
   "source": [
    "#получим массив целевой переменной, закодируем классы\n",
    "Y = [0 if x == '<=50K' else 1 for x in df['class']]"
   ]
  },
  {
   "cell_type": "code",
   "execution_count": 6,
   "id": "bd48f502",
   "metadata": {},
   "outputs": [],
   "source": [
    "#закодируем категориальные переменные, уберем проблему мультиколинеарности (?)\n",
    "df['age'] = df['age'].astype('category')\n",
    "df['capitalgain'] = df['capitalgain'].astype('category')\n",
    "df['capitalloss'] = df['capitalloss'].astype('category')\n",
    "df['hoursperweek'] = df['hoursperweek'].astype('category')\n",
    "\n",
    "X_dumm = pd.get_dummies(df.drop(['class'], axis = 1), drop_first = True)\n",
    "\n",
    "#стандартизируем переменные\n",
    "X_dumm_scalled = StandardScaler().fit_transform(X_dumm)\n",
    "#X_dumm_scalled = MinMaxScaler().fit_transform(X_dumm)"
   ]
  },
  {
   "cell_type": "code",
   "execution_count": 7,
   "id": "dee80bd5",
   "metadata": {},
   "outputs": [],
   "source": [
    "#получим тренировочный и тестовый сэмплы\n",
    "X_train, X_test, Y_train, Y_test = train_test_split(X_dumm_scalled, Y, test_size = 0.3, \\\n",
    "                                                    random_state = 1, stratify = Y)"
   ]
  },
  {
   "cell_type": "code",
   "execution_count": 8,
   "id": "d433c744",
   "metadata": {},
   "outputs": [],
   "source": [
    "#------------- Logistic Regression -------------------------"
   ]
  },
  {
   "cell_type": "code",
   "execution_count": 9,
   "id": "28fd89f0",
   "metadata": {},
   "outputs": [
    {
     "data": {
      "text/plain": [
       "(0.8526615068709524,\n",
       " array([[0.95048217, 0.04951783],\n",
       "        [0.6790194 , 0.3209806 ],\n",
       "        [0.63642399, 0.36357601],\n",
       "        ...,\n",
       "        [0.97354797, 0.02645203],\n",
       "        [0.12135552, 0.87864448],\n",
       "        [0.86125818, 0.13874182]]))"
      ]
     },
     "execution_count": 9,
     "metadata": {},
     "output_type": "execute_result"
    }
   ],
   "source": [
    "lrc = LogisticRegression(random_state = 42, max_iter = 1000).fit(X_train, Y_train)\n",
    "lrc.score(X_train, Y_train), lrc.predict_proba(X_train)"
   ]
  },
  {
   "cell_type": "code",
   "execution_count": 10,
   "id": "76ec9fdb",
   "metadata": {},
   "outputs": [
    {
     "data": {
      "text/plain": [
       "(0.8552369720645684,\n",
       " array([[8.86201620e-01, 1.13798380e-01],\n",
       "        [9.93265003e-01, 6.73499743e-03],\n",
       "        [5.97142720e-01, 4.02857280e-01],\n",
       "        ...,\n",
       "        [3.16926286e-04, 9.99683074e-01],\n",
       "        [5.18297851e-01, 4.81702149e-01],\n",
       "        [9.73605370e-01, 2.63946299e-02]]))"
      ]
     },
     "execution_count": 10,
     "metadata": {},
     "output_type": "execute_result"
    }
   ],
   "source": [
    "lrc.score(X_test, Y_test), lrc.predict_proba(X_test)"
   ]
  },
  {
   "cell_type": "code",
   "execution_count": null,
   "id": "ba1ec144",
   "metadata": {},
   "outputs": [],
   "source": [
    "#------------- SVM -------------------------"
   ]
  },
  {
   "cell_type": "code",
   "execution_count": null,
   "id": "dac9bbde",
   "metadata": {},
   "outputs": [],
   "source": [
    "%%time\n",
    "svc = SVC(random_state = 42, gamma = 'auto').fit(X_train, Y_train)"
   ]
  },
  {
   "cell_type": "code",
   "execution_count": null,
   "id": "8a3059bc",
   "metadata": {},
   "outputs": [],
   "source": [
    "%%time\n",
    "svc.score(X_train, Y_train)"
   ]
  },
  {
   "cell_type": "code",
   "execution_count": null,
   "id": "added2eb",
   "metadata": {},
   "outputs": [],
   "source": [
    "%%time\n",
    "svc.score(X_test, Y_test)"
   ]
  },
  {
   "cell_type": "code",
   "execution_count": null,
   "id": "c2ea037b",
   "metadata": {},
   "outputs": [],
   "source": [
    "#--------------- Вывод -----------------------\n",
    "# Logistic Regression и SVM в лайт версии (без подбора гиперпараметров) показали одинаковый результат"
   ]
  },
  {
   "cell_type": "code",
   "execution_count": null,
   "id": "b7c44844",
   "metadata": {},
   "outputs": [],
   "source": [
    "#------------- Multi Layer Perceptron -------------------------"
   ]
  },
  {
   "cell_type": "code",
   "execution_count": 72,
   "id": "cac882ed",
   "metadata": {},
   "outputs": [
    {
     "name": "stdout",
     "output_type": "stream",
     "text": [
      "CPU times: user 3min 7s, sys: 4.42 s, total: 3min 12s\n",
      "Wall time: 1min 39s\n"
     ]
    }
   ],
   "source": [
    "%%time\n",
    "from sklearn.neural_network import MLPClassifier\n",
    "\n",
    "#mlp = MLPClassifier(solver = 'adam', random_state = 42, hidden_layer_sizes = [107, 107], activation='relu', \\\n",
    "#                    alpha = .01, max_iter = 10000).fit(X_train, Y_train)\n",
    "\n",
    "\n",
    "mlp = MLPClassifier(random_state = 42, max_iter = 10000).fit(X_train, Y_train)"
   ]
  },
  {
   "cell_type": "code",
   "execution_count": 73,
   "id": "544eac93",
   "metadata": {},
   "outputs": [
    {
     "name": "stdout",
     "output_type": "stream",
     "text": [
      "CPU times: user 109 ms, sys: 9.19 ms, total: 118 ms\n",
      "Wall time: 61.2 ms\n"
     ]
    },
    {
     "data": {
      "text/plain": [
       "0.9151160954035698"
      ]
     },
     "execution_count": 73,
     "metadata": {},
     "output_type": "execute_result"
    }
   ],
   "source": [
    "%%time\n",
    "mlp.score(X_train, Y_train)"
   ]
  },
  {
   "cell_type": "code",
   "execution_count": 74,
   "id": "bd0f2e85",
   "metadata": {},
   "outputs": [
    {
     "name": "stdout",
     "output_type": "stream",
     "text": [
      "CPU times: user 53.7 ms, sys: 5.17 ms, total: 58.9 ms\n",
      "Wall time: 29.9 ms\n"
     ]
    },
    {
     "data": {
      "text/plain": [
       "0.8208889216481168"
      ]
     },
     "execution_count": 74,
     "metadata": {},
     "output_type": "execute_result"
    }
   ],
   "source": [
    "%%time\n",
    "mlp.score(X_test, Y_test)"
   ]
  },
  {
   "cell_type": "code",
   "execution_count": null,
   "id": "c119e5de",
   "metadata": {},
   "outputs": [],
   "source": []
  },
  {
   "cell_type": "code",
   "execution_count": null,
   "id": "a2975ac3",
   "metadata": {},
   "outputs": [],
   "source": []
  },
  {
   "cell_type": "code",
   "execution_count": null,
   "id": "dcf8588b",
   "metadata": {},
   "outputs": [],
   "source": []
  }
 ],
 "metadata": {
  "kernelspec": {
   "display_name": "Python 3",
   "language": "python",
   "name": "python3"
  },
  "language_info": {
   "codemirror_mode": {
    "name": "ipython",
    "version": 3
   },
   "file_extension": ".py",
   "mimetype": "text/x-python",
   "name": "python",
   "nbconvert_exporter": "python",
   "pygments_lexer": "ipython3",
   "version": "3.8.10"
  }
 },
 "nbformat": 4,
 "nbformat_minor": 5
}
