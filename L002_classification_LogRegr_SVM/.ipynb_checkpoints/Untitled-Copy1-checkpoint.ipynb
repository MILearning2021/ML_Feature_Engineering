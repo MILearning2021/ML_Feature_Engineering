{
 "cells": [
  {
   "cell_type": "code",
   "execution_count": 28,
   "id": "8622789e",
   "metadata": {},
   "outputs": [],
   "source": [
    "import pandas as pd\n",
    "import numpy as np\n",
    "import matplotlib.pyplot as plt\n",
    "\n",
    "from sklearn.model_selection import train_test_split\n",
    "\n",
    "from sklearn.linear_model import LogisticRegression, LogisticRegressionCV\n",
    "from sklearn.svm import SVC\n",
    "from sklearn.preprocessing import StandardScaler, MinMaxScaler\n",
    "\n",
    "from sklearn.model_selection import GridSearchCV"
   ]
  },
  {
   "cell_type": "code",
   "execution_count": 29,
   "id": "07685e33",
   "metadata": {},
   "outputs": [],
   "source": [
    "#читаем данные\n",
    "df = pd.read_csv('adult.csv')"
   ]
  },
  {
   "cell_type": "code",
   "execution_count": 30,
   "id": "ee095e5a",
   "metadata": {},
   "outputs": [],
   "source": [
    "#смотрим информацию датасета\n",
    "#df.info()\n",
    "#df.head()"
   ]
  },
  {
   "cell_type": "code",
   "execution_count": 31,
   "id": "682d46e8",
   "metadata": {},
   "outputs": [
    {
     "name": "stdout",
     "output_type": "stream",
     "text": [
      "['<=50K' '>50K'] \n",
      " [2 3 1 0 4] \n",
      " [1 0 4 2 3] \n",
      " [0 3 1 2 4] \n",
      " [2 0 3 4 1]\n"
     ]
    }
   ],
   "source": [
    "#удалим строки, где есть пустые значения\n",
    "df.dropna(inplace = True)\n",
    "#найдем категориальные переменные из переменных типа int64\n",
    "print(df['class'].unique(), '\\n', df['age'].unique(), '\\n', df['capitalgain'].unique(), '\\n', \\\n",
    "      df['capitalloss'].unique(), '\\n', df['hoursperweek'].unique())\n",
    "#предполагаю, что это все именно категории"
   ]
  },
  {
   "cell_type": "code",
   "execution_count": 32,
   "id": "cccbc1e5",
   "metadata": {},
   "outputs": [],
   "source": [
    "#получим массив целевой переменной, закодируем классы\n",
    "Y = [0 if x == '<=50K' else 1 for x in df['class']]"
   ]
  },
  {
   "cell_type": "code",
   "execution_count": 33,
   "id": "bd48f502",
   "metadata": {},
   "outputs": [],
   "source": [
    "#закодируем категориальные переменные, уберем проблему мультиколинеарности (?)\n",
    "df['age'] = df['age'].astype('category')\n",
    "df['capitalgain'] = df['capitalgain'].astype('category')\n",
    "df['capitalloss'] = df['capitalloss'].astype('category')\n",
    "df['hoursperweek'] = df['hoursperweek'].astype('category')\n",
    "\n",
    "X_dumm = pd.get_dummies(df.drop(['class'], axis = 1), drop_first = True)\n",
    "\n",
    "#стандартизируем переменные\n",
    "X_dumm_scalled = StandardScaler().fit_transform(X_dumm)\n",
    "#X_dumm_scalled = MinMaxScaler().fit_transform(X_dumm)"
   ]
  },
  {
   "cell_type": "code",
   "execution_count": 34,
   "id": "dee80bd5",
   "metadata": {},
   "outputs": [],
   "source": [
    "#получим тренировочный и тестовый сэмплы\n",
    "X_train, X_test, Y_train, Y_test = train_test_split(X_dumm_scalled, Y, test_size = 0.3, \\\n",
    "                                                    random_state = 1, stratify = Y)"
   ]
  },
  {
   "cell_type": "code",
   "execution_count": 20,
   "id": "d433c744",
   "metadata": {},
   "outputs": [],
   "source": [
    "#------------- Logistic Regression -------------------------"
   ]
  },
  {
   "cell_type": "code",
   "execution_count": 23,
   "id": "28fd89f0",
   "metadata": {},
   "outputs": [
    {
     "data": {
      "text/plain": [
       "(0.8527246880429632,\n",
       " array([[0.95082581, 0.04917419],\n",
       "        [0.67614764, 0.32385236],\n",
       "        [0.66209342, 0.33790658],\n",
       "        ...,\n",
       "        [0.97230293, 0.02769707],\n",
       "        [0.12953193, 0.87046807],\n",
       "        [0.85886229, 0.14113771]]))"
      ]
     },
     "execution_count": 23,
     "metadata": {},
     "output_type": "execute_result"
    }
   ],
   "source": [
    "lrc = LogisticRegression(random_state = 42, max_iter = 1000).fit(X_train, Y_train)\n",
    "lrc.score(X_train, Y_train), lrc.predict_proba(X_train)"
   ]
  },
  {
   "cell_type": "code",
   "execution_count": 24,
   "id": "76ec9fdb",
   "metadata": {},
   "outputs": [
    {
     "data": {
      "text/plain": [
       "(0.8550158472764797,\n",
       " array([[0.84941404, 0.15058596],\n",
       "        [0.9931956 , 0.0068044 ],\n",
       "        [0.59803775, 0.40196225],\n",
       "        ...,\n",
       "        [0.00152487, 0.99847513],\n",
       "        [0.51760229, 0.48239771],\n",
       "        [0.97063888, 0.02936112]]))"
      ]
     },
     "execution_count": 24,
     "metadata": {},
     "output_type": "execute_result"
    }
   ],
   "source": [
    "lrc.score(X_test, Y_test), lrc.predict_proba(X_test)"
   ]
  },
  {
   "cell_type": "code",
   "execution_count": null,
   "id": "ba1ec144",
   "metadata": {},
   "outputs": [],
   "source": [
    "#------------- SVM -------------------------"
   ]
  },
  {
   "cell_type": "code",
   "execution_count": null,
   "id": "dac9bbde",
   "metadata": {},
   "outputs": [],
   "source": [
    "%%time\n",
    "svc = SVC(random_state = 42, gamma = 'auto').fit(X_train, Y_train)"
   ]
  },
  {
   "cell_type": "code",
   "execution_count": null,
   "id": "8a3059bc",
   "metadata": {},
   "outputs": [],
   "source": [
    "%%time\n",
    "svc.score(X_train, Y_train)"
   ]
  },
  {
   "cell_type": "code",
   "execution_count": null,
   "id": "added2eb",
   "metadata": {},
   "outputs": [],
   "source": [
    "%%time\n",
    "svc.score(X_test, Y_test)"
   ]
  },
  {
   "cell_type": "code",
   "execution_count": null,
   "id": "c2ea037b",
   "metadata": {},
   "outputs": [],
   "source": [
    "#--------------- Вывод -----------------------\n",
    "# Logistic Regression и SVM в лайт версии (без подбора гиперпараметров) показали одинаковый результат"
   ]
  },
  {
   "cell_type": "code",
   "execution_count": null,
   "id": "b7c44844",
   "metadata": {},
   "outputs": [],
   "source": [
    "#------------- Multi Layer Perceptron -------------------------"
   ]
  },
  {
   "cell_type": "code",
   "execution_count": null,
   "id": "75ed68cb",
   "metadata": {},
   "outputs": [],
   "source": [
    "%%time\n",
    "from sklearn.neural_network import MLPClassifier\n",
    "\n",
    "mlp = MLPClassifier(solver='adam', random_state=0, hidden_layer_sizes=[70], activation='tanh', \\\n",
    "                    alpha = 0.0001, max_iter = 10000).fit(X_train, Y_train)"
   ]
  },
  {
   "cell_type": "code",
   "execution_count": 39,
   "id": "544eac93",
   "metadata": {},
   "outputs": [
    {
     "name": "stdout",
     "output_type": "stream",
     "text": [
      "CPU times: user 54.8 ms, sys: 4.64 ms, total: 59.4 ms\n",
      "Wall time: 31.5 ms\n"
     ]
    },
    {
     "data": {
      "text/plain": [
       "0.870194282103933"
      ]
     },
     "execution_count": 39,
     "metadata": {},
     "output_type": "execute_result"
    }
   ],
   "source": [
    "%%time\n",
    "mlp.score(X_train, Y_train)"
   ]
  },
  {
   "cell_type": "code",
   "execution_count": 40,
   "id": "bd0f2e85",
   "metadata": {},
   "outputs": [
    {
     "name": "stdout",
     "output_type": "stream",
     "text": [
      "CPU times: user 23 ms, sys: 2.69 ms, total: 25.7 ms\n",
      "Wall time: 16.6 ms\n"
     ]
    },
    {
     "data": {
      "text/plain": [
       "0.8454337731259675"
      ]
     },
     "execution_count": 40,
     "metadata": {},
     "output_type": "execute_result"
    }
   ],
   "source": [
    "%%time\n",
    "mlp.score(X_test, Y_test)"
   ]
  },
  {
   "cell_type": "code",
   "execution_count": null,
   "id": "c119e5de",
   "metadata": {},
   "outputs": [],
   "source": []
  },
  {
   "cell_type": "code",
   "execution_count": null,
   "id": "a2975ac3",
   "metadata": {},
   "outputs": [],
   "source": []
  },
  {
   "cell_type": "code",
   "execution_count": null,
   "id": "dcf8588b",
   "metadata": {},
   "outputs": [],
   "source": []
  }
 ],
 "metadata": {
  "kernelspec": {
   "display_name": "Python 3",
   "language": "python",
   "name": "python3"
  },
  "language_info": {
   "codemirror_mode": {
    "name": "ipython",
    "version": 3
   },
   "file_extension": ".py",
   "mimetype": "text/x-python",
   "name": "python",
   "nbconvert_exporter": "python",
   "pygments_lexer": "ipython3",
   "version": "3.8.10"
  }
 },
 "nbformat": 4,
 "nbformat_minor": 5
}
